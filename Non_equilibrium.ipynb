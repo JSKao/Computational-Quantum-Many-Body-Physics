{
 "cells": [
  {
   "cell_type": "markdown",
   "id": "a04e4693-0967-46cf-add1-faf4b41d07e7",
   "metadata": {},
   "source": [
    "# Time average view of thermalization\n",
    "StatMech textbook start from the assumption of thermal equilibrium, which can be described by the expression \n",
    "$ \\frac{1}{T}\\int^{T}_{0}A(q,p)dt = <A>_{microcanonical} $. T approach infinity corresponds to the ergodicity hypothesis."
   ]
  },
  {
   "cell_type": "markdown",
   "id": "1ef01944-ae4b-4309-8d0f-a6433ae54b4a",
   "metadata": {},
   "source": [
    "This essentially means that you don't need to calculate the dynamics of the system to obtain the average behavier of the whole system. Just doing ensemble average of that observables will give you the answer when the system reach a status called thermal equilibrium. And thermodynamics is the subject to study those quantities and their relations."
   ]
  },
  {
   "cell_type": "markdown",
   "id": "fe142055-1f4a-49fa-bbb4-bec154532f59",
   "metadata": {},
   "source": [
    "So dynamics is absent in the study of thermodynamics. Dynamics comes back to play when we ask the question \"how a system reaches equilibrium from out-of-equilibrium\" "
   ]
  },
  {
   "cell_type": "markdown",
   "id": "a3554fed-fe40-4842-bba4-80e8eb67e60f",
   "metadata": {},
   "source": [
    "With equilibrium as an assumption, then comes a collorary by particle number N being large. This leads to $ <A>_{microcanonial} = <A>_{canonical}$"
   ]
  },
  {
   "cell_type": "markdown",
   "id": "ae80284f-699b-48dc-9e3a-7b82045949ab",
   "metadata": {},
   "source": [
    "to be explicit $\\frac{\\int A(q,p)\\delta(E-E_{o})dqdp}{\\int \\delta(E-E_{o})dqdp} = \\frac{\\int A(q,p)e^{-\\beta H}dqdp}{\\int e^{-\\beta H} dqdp}$"
   ]
  },
  {
   "cell_type": "markdown",
   "id": "61f3e2ae-df0c-49a9-af74-26d6c7ac77ee",
   "metadata": {},
   "source": [
    "Here we denote this value $<A>_{th}$"
   ]
  },
  {
   "cell_type": "markdown",
   "id": "526228e9-8b72-4563-8eba-8ce1109b47e9",
   "metadata": {},
   "source": [
    "Extensive conserved quantities are signature of thermal equilibrium. Traditionally, if that conserved quantity is energy, then temperature, mathematically the Lagrage multiplier with constraint by the conserved quantity, defines the equilibrium."
   ]
  },
  {
   "cell_type": "markdown",
   "id": "4a1ab36f-c104-4031-b38b-253a6e06896a",
   "metadata": {},
   "source": [
    "An extreme example is integrable system, which is not generic but fine-tuned system, pose infinitely many conserved quantities. And it arises generalized Gibbs ensemble, in constrast to Gibbs ensemble where very limited conserved quantities are considered."
   ]
  },
  {
   "cell_type": "markdown",
   "id": "b268858e-b76d-460d-a75f-f522c43c6edb",
   "metadata": {},
   "source": [
    "# Dynamics view of thermalization"
   ]
  },
  {
   "cell_type": "markdown",
   "id": "0c8d821b-7134-4edf-8d6a-d0a5d1a6454b",
   "metadata": {},
   "source": [
    "Instead of asking ergodicity, we ask how a closed system, via quantum dynamics, reach a steady state for which measurement outcomes fit the predictions of equilibrium statistical mechanics. If for such system with majority of initial states the answer is yes, then the system is said to be thermalized."
   ]
  },
  {
   "cell_type": "markdown",
   "id": "46c78a3c-3628-4e93-bbcb-e755d81e5eb2",
   "metadata": {},
   "source": [
    "For classical system, that is ,instead of the ergodicity formula above, the modern argument about thermal equilibrium by questing  "
   ]
  },
  {
   "cell_type": "markdown",
   "id": "b0726787-b452-4c85-888d-4d9bf0a4541f",
   "metadata": {},
   "source": [
    "$ \\lim_{t=>\\infty} A(q,p) = <A>_{microcanonical} $ or equivalently, in term of states, $\\lim_{t=>\\infty} \\rho_{0}(t) = \\rho_{microcanonical}$."
   ]
  },
  {
   "cell_type": "markdown",
   "id": "3f00604f-0bf2-41c9-99b9-3a6d690c066b",
   "metadata": {},
   "source": [
    "This is a stronger condition than ergodicity hypothesis."
   ]
  },
  {
   "cell_type": "markdown",
   "id": "4e23af50-44f6-475c-ac9f-66a224a8322c",
   "metadata": {},
   "source": [
    "Approach 1 (Gibbs) Like fluid dynamics in phase space, time evolve an volume in phase space. It spread to equally fill the whole microcanonical ensemble. That is, $\\rho_{0} => \\rho_{microcanonical}$. However, just by Liouville theorem, which governs the dynamics of phase space, this could not happen. Two ingredients need to be introduced to phase space which are croase graining and mixing(or chaos)."
   ]
  },
  {
   "cell_type": "markdown",
   "id": "d044952b-c115-451d-b751-757f6a653fbc",
   "metadata": {},
   "source": [
    "Approach 2(Boltzmannian) Instead of being a tiny volume in phase space, initial state is a single state(a point in phase space). Propose the idea of typicality that the state will evolve into the largest \"cell\" volume in phase space, where cell is defined by the states which produce roughly the same $<A>$."
   ]
  },
  {
   "cell_type": "markdown",
   "id": "37846783-5e42-4281-b463-bd01d2200dd5",
   "metadata": {},
   "source": [
    "# Quantum Systems and Eigenstate Ehermalization Hypothesis(ETH)"
   ]
  },
  {
   "cell_type": "markdown",
   "id": "2d5627eb-e8d8-4e36-9b9f-044ee2aadcec",
   "metadata": {},
   "source": [
    "Quantum thermalization and classical thermalization differs in two ways. Quantum thermalization lacks of (1) phase space (2) loss of memory of initial state"
   ]
  },
  {
   "cell_type": "markdown",
   "id": "870e7550-706d-4490-b175-030e0e61d2c6",
   "metadata": {},
   "source": [
    "System is quantum, closed and finite size, described by Hamiltonian H. $H|a>= E_{a}|a>$. Time evolve a generic state, we get $|\\Phi (t)> = \\sum c_{a}e^{-iE_{a}t}|a>$. For observable A, the expectation value is "
   ]
  },
  {
   "cell_type": "markdown",
   "id": "9f135fe4-ce97-4a95-8296-1f7e2cbb2be0",
   "metadata": {},
   "source": [
    "$<A>_{t} = \\sum_{a}|c_{a}|^{2}A_{aa} + \\sum_{a\\neq b} \\bar{c_{a}}c_{b}e^{i(E_{a}-E_{b})t}A_{ab}$"
   ]
  },
  {
   "cell_type": "markdown",
   "id": "a54179a3-ce1f-474c-9013-5c9bb588bd5e",
   "metadata": {},
   "source": [
    "In quite a lot systems, the second term (fluctuation term) will be vanished in long enough time, and ETH concludes that  "
   ]
  },
  {
   "cell_type": "markdown",
   "id": "91be6179-3970-43d6-b78e-ad4ba156beae",
   "metadata": {},
   "source": [
    "$<A>_{th} = \\sum_{a}|c_{a}|^{2}A_{aa}$"
   ]
  },
  {
   "cell_type": "markdown",
   "id": "abe4c3e7-e8cb-4c69-a228-b6a4e3ec2469",
   "metadata": {},
   "source": [
    "On left hand side, the parameter we only know is temperature thus total energy of the system. On right hand side, lots of informations are needed to compute the value, say, given an inital quantum state we need to know its components on some basis. However, in many generic systems, the spread of the components are very limited, and within that limitied range $A_{aa}$ is quite smooth and doesn't varied a lot. That is, $A_{aa}$ behaves like a constant value and only depends on a specific E, which is roughtly the E lies in  the narrow range."
   ]
  },
  {
   "cell_type": "markdown",
   "id": "51d6ba55-231e-4783-b9e7-81d3f2416ada",
   "metadata": {},
   "source": [
    "It's rich to study whether the fluctuation term vanish and how fast for specific system, and how good is $A_{aa}$'s behavior, so that ETH is violeted."
   ]
  },
  {
   "cell_type": "markdown",
   "id": "ff5762e4-b7be-40ab-a364-02a46fb99867",
   "metadata": {},
   "source": [
    "Matter that obeys ETH can be seen as a phase of matter in non-equilibrium regime, often called \"thermalization phase\". It's interesting to search for the matter that violets ETH and poses a new phase in non-equilibrium regime."
   ]
  },
  {
   "cell_type": "markdown",
   "id": "a328ed24-ec9c-4476-bdac-62c698fe259d",
   "metadata": {},
   "source": [
    "# Types of non-equilibrium dynamics, and searching for new non-equilibrium phases of matter "
   ]
  },
  {
   "cell_type": "markdown",
   "id": "42abc6bd-5c51-4e33-a422-e6d52a306e37",
   "metadata": {},
   "source": [
    "# Quench dynamics"
   ]
  },
  {
   "cell_type": "markdown",
   "id": "f33850ce-1560-4f0e-86b9-b13e93ec08f6",
   "metadata": {},
   "source": [
    "Prepare an eigenstate of $H_{0}$ and suddenly change $H_{0}$ to $H_{1}$. Studying the evolution under $H_{1}$ leads to important insight of non-equilibrium. \n",
    "Highly excited states of $H_{0}$ become relevant to the dynamics. It is realized and analyzed in neutral atoms[Choi et al., Science 2016] and ion-trap system[Tan, et. al., Nature Physics 17, 742-747 (2021)]."
   ]
  },
  {
   "cell_type": "markdown",
   "id": "118ceff2-a512-4b52-bacf-8d76e44b3c57",
   "metadata": {},
   "source": [
    "Topological phases can be recognized through this process[hu, zoller, budich, prl 117 126803 (2016)][M. Tarnowski,et. al., Nat. Commun. 10 1728 (2019)]. Additionally, dynamical classification of topological phases may help to find and organize the universal properties of non-equilibrium quantum dynamics."
   ]
  },
  {
   "cell_type": "markdown",
   "id": "e329c561-4c60-4414-bba0-cd69abb47a32",
   "metadata": {},
   "source": [
    "# Many body Localization(MBL)"
   ]
  },
  {
   "cell_type": "markdown",
   "id": "789b72c2-e1ad-40e5-909e-c50e32f386ea",
   "metadata": {},
   "source": [
    "MBL is the phase that poses strongest ETH breaking. Disorder and interaction lead to emergent intergrability in MBL. Models for studying MBL are spin-1/2 systems $ H = \\sum_{i} h_{i}S_{i,z} + J\\sum_{i} \\vec{S}_{i}\\cdot \\vec{S}_{i+1}$ in 1D, 2D, long-range interactions, $h_{i}$ being random or quasiperiodic, non-conserved total spin, Floquet driven, etc...\n"
   ]
  },
  {
   "cell_type": "markdown",
   "id": "4db62b4b-1ea7-4b13-83e3-ef368c156e31",
   "metadata": {},
   "source": [
    "# Quantum many body Scars(QMBS)"
   ]
  },
  {
   "cell_type": "markdown",
   "id": "20d51021-39a1-4c3e-8dd9-c0b0f8ddc386",
   "metadata": {},
   "source": [
    "QMBS, first realized by PXP model in Rydberg atom system, is a weaker ETH breaking found to be interesting. Start from Neel state, evolve it by $H = \\sum V_{ij}n_{}n_{} - \\sum \\Delta_{i}n_{i} + \\frac{\\Omega}{2}\\sum \\sigma^{x}_{i}$, it was shown the observable called domain wall density keeps fluctuating[Bernien et. al., Nature(2017)]. Later analysis shown that a small number(exponentially small) of non-thermal eigenstates live anomalously long. Those almost equally spaced eigenstate having low entanglement entropy are called Quantum Many Body Scars(QMBS) states[Turner et. al., PRB(2018)]. Initial state overlap with QMBS could be signatured non-equilibrium by long-lived oscillating observables."
   ]
  },
  {
   "cell_type": "markdown",
   "id": "76a05636-1a9e-489b-b2bf-e5cc73bad34d",
   "metadata": {},
   "source": [
    "# Hilbert space fragmentation"
   ]
  },
  {
   "cell_type": "markdown",
   "id": "083405d4-2e31-46d3-ba13-9e28bf589afa",
   "metadata": {},
   "source": [
    "Quantum mechanics tells us, if $[Q, H] = 0$, we can block-diagonalize the Hamiltonian. Each block is label by the conserved quantity corresponding to Q. In each block, the eigenspace consists of eidenstates that obey ETH."
   ]
  },
  {
   "cell_type": "markdown",
   "id": "41f4e86f-3f34-445e-ba9a-3b1acddb2e00",
   "metadata": {},
   "source": [
    "Such phenomena told us that each block might fractionalize into many tiny blocks that could not describe by any conserved quantity. This shows another weak, though stronger than QMBS, ETH breaking mechanicsm called Hilbert space fragmentation."
   ]
  },
  {
   "cell_type": "markdown",
   "id": "f21146fb-dba4-4faa-99ca-2a3bca19ee67",
   "metadata": {},
   "source": [
    "The phenomena that Hilbert space fractionalized into tiny blocks, called Krylov subspace, comes from quantum dynamics. Within each Krylov space, interesting new phenomena arise such as Krylov-subspace--restricted thermalization and integrability. "
   ]
  },
  {
   "cell_type": "markdown",
   "id": "0c1d922f-9051-453d-bb33-4ecdac9da51d",
   "metadata": {},
   "source": [
    "# Entanglement entropy as lens to probe ergodicity"
   ]
  },
  {
   "cell_type": "markdown",
   "id": "c1b7081d-2139-4785-8402-263c645cfea8",
   "metadata": {},
   "source": [
    "Entanglement entropy of quantum many body state is given by $S_{A} = - tr(\\rho_{A} ln\\rho_{A})$ where $\\rho_{A} = tr_{B}|\\psi><\\psi|$"
   ]
  },
  {
   "cell_type": "markdown",
   "id": "c210de13-af10-445a-b26d-25d318a17b72",
   "metadata": {},
   "source": [
    "For ETH, the thermalization phase, the von Neumann entropy $S_{A}(E)$ should obey volume law."
   ]
  },
  {
   "cell_type": "markdown",
   "id": "cb4ff8b4-f069-4e3d-b47d-2de7af233e89",
   "metadata": {},
   "source": [
    "For QMBL, the strongest ETH breaking phase, the the von Neumann entropy $S_{A}(E)$ obeys area law."
   ]
  },
  {
   "cell_type": "markdown",
   "id": "64fa5f09-4fd0-4a16-95eb-c8b3423aa148",
   "metadata": {},
   "source": [
    "Advantages of using entanglement entropy to study non-equilibrium quantum dynamics: (1) as a non-local probe, it compliments the informations local observables could provide. (2) it can be well detected in cold atomic experiments[Kaufman, et. al., Science 353 (2016)]."
   ]
  },
  {
   "cell_type": "markdown",
   "id": "8495e8f7-1539-461f-8bec-404f909ecf2b",
   "metadata": {},
   "source": [
    "# Entanglement dynamics and information scrambling"
   ]
  },
  {
   "cell_type": "markdown",
   "id": "602d023c-165b-4ea8-bd7f-085bccd9a4f7",
   "metadata": {},
   "source": [
    "Additionally, entanglement dynamics has been becoming tractable as the rise of (random) quantum circuits. It was found that entanglement dynamics resembles the Kardar-Parisi-Zhang(1986) class [Nahum et. al. PRX(2017)][Zhou, Nahum, et al,PRB(2019)]. $S(t) = vt\\cdot S_{eq} + ct^{\\frac{1}{3}}\\chi(t) $"
   ]
  },
  {
   "cell_type": "markdown",
   "id": "8c0a6ea7-eaf1-47d0-9a42-b95a558a22a8",
   "metadata": {},
   "source": [
    "Typically, Haar measure is used for random quantum circuits in this context, as it could produce non-trivial entanglement spectrum while Clifford measure couldn't."
   ]
  },
  {
   "cell_type": "markdown",
   "id": "a6179df8-5a4d-4b11-ae7d-d1b990439fea",
   "metadata": {},
   "source": [
    "Another route to study entanglement dynamics is by adding stochastic measurements to random quantum circuits. This induced a so-called entanglement phase transition from volume law to area law, separated by some measurement probability $p_{c}$. Near the $p_{c}$ the system is described by conformal field theory."
   ]
  },
  {
   "cell_type": "markdown",
   "id": "e2e06a26-14f1-4d63-975b-a657874755f0",
   "metadata": {},
   "source": [
    "To analyze this phase transition, one way is to try to map the circuit model to a statistical mechanics model[PRB 1-1,104302(2020)], and the other way is to apply the tool of quantum error correction[Choi et al, Phys. Rev. Lett. 125, 030505]. The connection of these two route is also investigated[Li, Fisher, PRB(2021)]."
   ]
  },
  {
   "cell_type": "markdown",
   "id": "ab5e48ac-c12c-4538-90e5-284bb9081f98",
   "metadata": {},
   "source": [
    "# Simulating dynamics of open quantum system"
   ]
  },
  {
   "cell_type": "markdown",
   "id": "5a0c3245-5d95-4010-9261-a3608d51f52d",
   "metadata": {},
   "source": [
    "Monitored quantum circuits opens an opportunity to simulate open quantum system where measurements serves as the system's interaction with environment. Moreoever, how the envirionment interact to the system could be actively controlled as we could assign how the measurements are applied in the circuit."
   ]
  },
  {
   "cell_type": "markdown",
   "id": "01b7be65-9b2c-45f2-960b-bdb7662899a6",
   "metadata": {},
   "source": [
    "# Fractons"
   ]
  },
  {
   "cell_type": "markdown",
   "id": "8d965e10-ac77-4ef0-ac01-54e9b3fdbdf2",
   "metadata": {},
   "source": [
    "Interplay between topological order and non-equilibrium dynamics is fruitful."
   ]
  },
  {
   "cell_type": "markdown",
   "id": "1031189a-2732-488d-a47b-e5c9b580bdc2",
   "metadata": {},
   "source": [
    "Review of Toric code: Toric code serves as the \"Ising model\" of topological ordered physics. It's a lattice model with stabilizers $A_{v}$ and $B_{p}$ living on it. Put the model on periodic boundary condition(on a torus), it poses a 4-fold degeneracy ground states. Each could be distinguished only by non-local string operators string(X) and string(Z) along two direction wrapping around the torus[Bravyi, Hastings, Michalakis, 2010]. Excitation(anyons) could be created, or stabilizers could be violeted(errors in the code could occur), by open strings. As T > 0, anyons could easily exist and move around and information stored in the ground states could be destroyed. Topological order is lost as T > 0 for Toric code."
   ]
  },
  {
   "cell_type": "markdown",
   "id": "0f0e991e-61ca-4f5f-8709-7173387d2034",
   "metadata": {},
   "source": [
    "Some facts of fracton: Famous examples of fracton models are Chamon's model[Chamon, 2005], Haah's code[Haah, PRA, 2011] and X-cube model. Unlike Toric code, the degenracy of ground state of fracton models grows with system size, and the excitations are not mobile. For these reasons, fracton models shall be better quantum error correcting code. Haah's code poses fracton, whike X-cube model poses excitations fracton, lineon and planon."
   ]
  },
  {
   "cell_type": "markdown",
   "id": "733f9b63-26bc-4f5e-a8cd-0c23ca9cb229",
   "metadata": {},
   "source": [
    "# Open problem : classifying fracton topological phases"
   ]
  },
  {
   "cell_type": "markdown",
   "id": "f9d33493-d88c-4c6b-8193-a1b9e8dffb70",
   "metadata": {},
   "source": [
    "Fracton topological orders are beyond the conventional classifications. It's still unknown what language is needed to classify different fracton phases. "
   ]
  },
  {
   "cell_type": "markdown",
   "id": "ebf67807-b9dd-4724-9592-b8bcd14218fa",
   "metadata": {},
   "source": [
    "Entanglement could provide some insights. By applying entanglement renormalization[Vidal 2007], we could remove short range entanglement degrees of freedom and remain long range entanglement ones. It could be shown Toric code is itself a fixed point under this procedure. Contrarily, Cubic code is not a fixed point[Haah 2013], which is reflected by the its splitting into different models,such as cubic code B and stacked toric code, during the croase graining procedure. It has been found that there are 18 Cubic-code-like models belongs to this context. Among this zoo, the models labelled 2,3,4,7,8,10 are found to be fixed points."
   ]
  },
  {
   "cell_type": "markdown",
   "id": "b573376d-d786-4b47-8f3e-cd034bac4b3f",
   "metadata": {},
   "source": [
    "All these models belongs to the zoo of Pauli stabilizer models, one way they could be organized is by the mobilities of their excitations, called Structure Theorem : 3D toric code = 3, 2D = 2, lineone model = 1, fracton model = 0[Bombin, Haah, 2018]. Things becomes more exotic when mobility = 0 and 1, that analytic methods like RG and adiabatic continuity does not suffice to classify their phases. Recently, most of the endeavors are done by numerics experiment by quantum processor and classical simulation."
   ]
  },
  {
   "cell_type": "markdown",
   "id": "452e09b7-5725-4123-a942-fe5dde194a0c",
   "metadata": {},
   "source": [
    "# Fractonic symmetries and Hilbert space fragmentation"
   ]
  },
  {
   "cell_type": "markdown",
   "id": "05f2203b-901e-4e12-b5c5-0fd2ef65965a",
   "metadata": {},
   "source": [
    "A so-called \"fracton symmetries\" could arise the breaking of ETH[4]. U(1) charge conservation + dipole conservation seems to be minimum requirements for such system to evade equilibrium. As a system with energy conservation would equilibriate to the symmetry sector of energy(microcanonical ensemble), wouldn't the system with charge and dipole conservation equilibriate to the corresponding symmetry sector of U(1)? \n",
    "\n",
    "By quantum circuits model, it's equivalent to require the unitary to be block diagonalized into charge and dipole sector and don't talk to each other, and no further structure is required. By construction of random quantum circuit, each block could be a random matrix. \n",
    "\n",
    "It's shown by a quantum circuit model that charge is localizazed, not reaching equilibrium[Pai, Pretko, Nandkishore, PRX, 2019]. Such unconventional localization happens without energy conservation and disorder, where Anderson localization does, was explained in 2020[Sala,et al, 2020]. It was explained by the existence of exponentially large number of eigenstates of the charge+dipole symmetry Hamiltonian, in which the charge and dipole are localized. In operator language, time evolve unitary matrix is block diagonalized into symmetry sectors(blocks), and for non-ergodic system each block will further block-diagonalized into exponentially many small size blocks. Different tiny blocks don't talk to each other even if they are in the same symmetry sector."
   ]
  },
  {
   "cell_type": "markdown",
   "id": "3a36ff49-977f-471f-b393-1e35cab8e74a",
   "metadata": {},
   "source": [
    "As mentioned previously, Hilbert space fragmentation is a broader phenomena purely from quantum dynamics, the special case induced by fracton symmetries draws interest to find more mechanisms relevant to this quantum dynamics phenomena."
   ]
  },
  {
   "cell_type": "markdown",
   "id": "c4a9a7c0-54d1-4a06-95e2-341e849acca4",
   "metadata": {},
   "source": [
    "# Remark: Localization arises from the existence of exact eigenstates of quantum dynamics, the number of states could be small to large, marking the level of ETH broken."
   ]
  },
  {
   "cell_type": "markdown",
   "id": "84d7d80f-7af2-41c0-b566-03972cafb0d4",
   "metadata": {},
   "source": [
    "It turns out very interesting to search for more mechanisms of ETH breaking by investigating the possibility of engineering certain dynamics and its corresponding exact eigenstates. This research line should be both scientifically and applicably interesting."
   ]
  },
  {
   "cell_type": "markdown",
   "id": "bd49ba39-a755-4400-adfe-cae737e59498",
   "metadata": {},
   "source": [
    "# Operator Spreading"
   ]
  },
  {
   "cell_type": "markdown",
   "id": "9432006f-5dc6-47e1-bae7-d843b92f95b9",
   "metadata": {},
   "source": [
    "It's useful to examine thermalization from quantum operators point of view. It's essential to realize that almost all hermition operators in quantum many body systems are not observables. In a lab, the majority of observations we can make are two-point correlation(In amo lab, it might be 10-point correlation function, but still finite). As we can only observably determine thermaliztion, an initial out-of-equilibrium state loses its information into non-observable operators as time evolve, or in other words its information is hidden in those non-observable operators, and finally reaches a thermal state. In standard quantum mechanics books as how it is taught, systems are small, like an electron in a wall or atom, hermitian operators are all observables, thus no such idea as thermal equilibrium in such small system. "
   ]
  },
  {
   "cell_type": "markdown",
   "id": "73734bd8-4b33-4f36-89da-a5bb719c2266",
   "metadata": {},
   "source": [
    "So, is it fair to say that, thermal equilibrium is somehow due to our ignorance. Observables are via interactions and interactions are locality, and as the system is large and time evolving, information of initial state is spread into more global operators and this hidden from our detection. All we can do(and ask) is via locally detecting the system and see if the outcome match the ensemble average or not. "
   ]
  },
  {
   "cell_type": "markdown",
   "id": "89931ba8-dbbb-4d97-ae6e-45266ab02f95",
   "metadata": {},
   "source": [
    "Numerical simulation can give us the time evolving state to compare it with the thermal state."
   ]
  },
  {
   "cell_type": "markdown",
   "id": "a6793a96-38a1-4eef-a993-7bba23d76037",
   "metadata": {},
   "source": [
    "Example: N spin system , $2^{N}$ basis state, roughly $4^{N}$ Hermition operators(4 Pauli operators for each spin)"
   ]
  },
  {
   "cell_type": "markdown",
   "id": "4f42e400-263a-4c0e-a7ee-ef5469f3f8d9",
   "metadata": {},
   "source": [
    "A typical hermition operator for this system would be like $X_{i}\\otimes ... \\otimes Z_{j} \\otimes ... \\otimes Y_{k} $ , where i, j, k are very large number and could not be an observable."
   ]
  },
  {
   "cell_type": "markdown",
   "id": "788ed6fd-1a96-4125-9d96-128d2a3f7a91",
   "metadata": {},
   "source": [
    "Prepare initial state $\\rho_{S}(0)$ of the system S, to be an observed out-of-equilibrium state"
   ]
  },
  {
   "cell_type": "markdown",
   "id": "f9e422c1-5578-4f8e-919e-20e77497022d",
   "metadata": {},
   "source": [
    "Time evolve it $\\rho_{S}(t) = U(t)\\rho_{S}(0)U^{\\dagger}(t)$"
   ]
  },
  {
   "cell_type": "markdown",
   "id": "962b0cb6-8310-480b-93db-00b40d5d6801",
   "metadata": {},
   "source": [
    "Entanglement plays a crucial role to equilibriate S, or hide the information into operators sea, making every subsystem A of S more and more of a mixed state, i.e. entanglement of $\\rho_{A} = Tr_{B}(\\rho_{S})$ is getting large. It is equivalent to say, for every A of the system S, B is the bath for A. This could be considered as the definition of thermalization."
   ]
  },
  {
   "cell_type": "markdown",
   "id": "bcf76636-3df8-420d-baac-e3747baffacc",
   "metadata": {},
   "source": [
    "# Some highlights of Quantum Simulations"
   ]
  },
  {
   "cell_type": "markdown",
   "id": "0916d5bf-24ac-4117-b5e1-f91a619d2503",
   "metadata": {},
   "source": [
    "Simulating equilibrium and non-equilibrium properties of many body system by analog quantum simulators and quantum circuits has been proven advantageous. "
   ]
  },
  {
   "cell_type": "markdown",
   "id": "fc48b4b3-0c4d-493b-9fb8-2dd2be6c63d9",
   "metadata": {},
   "source": [
    "First example is Fermi Hubbard model."
   ]
  },
  {
   "cell_type": "markdown",
   "id": "6038a30d-10a9-4f25-984c-1c99efa0badd",
   "metadata": {},
   "source": [
    "For its equilibrium properties, it is shown that beyond weak coupling regime (U > 4t), superconducting phase is absent at U~8t. Challenge stems from some sources of complexity, one direction to address these is by introducing fermion-to-qubit mappings other than the standard Jordan-Wigner mapping."
   ]
  },
  {
   "cell_type": "markdown",
   "id": "4ff30964-dae7-4233-b25f-4617a3bddaa9",
   "metadata": {},
   "source": [
    "Non-equilibrium dynamics of fermionic systems is typically driven by external field and quench. Such problem is usually more challenging than equilibrium physics for classical simulation, and has been proven advantage for quantum simulation. So far digital quantum simulation of dynamics of Fermi Hubbard model could be done by Hamiltonian simulation. However, analog simulation is still by far the most suitable platform for simulating Fermi hubbard model dynamics."
   ]
  },
  {
   "cell_type": "markdown",
   "id": "2e030482-bb04-43c6-b8c9-b1a8de51c72c",
   "metadata": {},
   "source": [
    "Second example is Quantum Spin Model."
   ]
  },
  {
   "cell_type": "markdown",
   "id": "12ef7c70-bded-4a5a-b5a7-e439d524a367",
   "metadata": {},
   "source": [
    "Studying quantum spin model is beneficial from quantum materials to quantum information science. It is also relevant to many computational tasks such as optimization problems and energy based generative model in machine learning."
   ]
  },
  {
   "cell_type": "markdown",
   "id": "f1a49ea2-10c1-40f1-907b-0048a59e855f",
   "metadata": {},
   "source": [
    "In contrast to fermi-to-qubit mapping in simulating fermionic models, the trivial spin-to-qubit mapping naturally brings advantage for the tasks of digital simulating quantum spin models. Simulating equilibrium and non equilibrium physics of spin systems is more aligned for digital and analog quantum simulators than that of fermionic systems."
   ]
  },
  {
   "cell_type": "markdown",
   "id": "02a19e93-dc0d-4b4e-a9e1-580ea7677d77",
   "metadata": {},
   "source": [
    "It's interesting to formulate spin models from perspective of graph theory and study their properties[4]. It can also be extended from SU(2) to SU(N) spin models to study the properties and exotic quantum correlations in the multi-dimensional spin systems. Simulating SU(N) spin model of size L typically requires $L\\cdot log(N)$ or $L\\cdot (N-1)$ qubits."
   ]
  },
  {
   "cell_type": "markdown",
   "id": "0b2874e8-22fa-4f70-b58b-53011611e5e7",
   "metadata": {},
   "source": [
    "For equilibrium physics, while a classical spin model could be used to provide solutions for optimization problem and training generative model by its ground states and thermal states, a quantum spin model is useful for extracting observables such as energy, magnetizations, and n-site correlations(typically n=2)."
   ]
  },
  {
   "cell_type": "markdown",
   "id": "fc0d1c33-d026-4536-abd4-d626cd7fc519",
   "metadata": {},
   "source": [
    "To study dynamics of quantum spin model, as in the fermionic system, it's typical to prepare initial state then apply external field or quench it. It can also be done by Hamiltonian simulations. Simulating dynamics of quantum spin model belongs to BQP-complete class in quantum complexity theory. Though convincing in science regime, it's relevance to industrial applications is recently lacking."
   ]
  },
  {
   "cell_type": "markdown",
   "id": "a1f9a367-0f20-46df-8a82-c528e6ce1c49",
   "metadata": {},
   "source": [
    "# Digital quantum simulation of quantum dynamcis"
   ]
  },
  {
   "cell_type": "markdown",
   "id": "f671b53e-64fa-4f3c-b5f2-f998226f82ea",
   "metadata": {},
   "source": [
    "In general, $U(t) = e^{-iHt}$ is not explicitly known. And we need to break U(t) into sub problems whose form are explicitly known. Methods are (1) Trotter-Suzuki (2) Random quantum circuits (3) Linear combination of unitaries (4) quantum walks."
   ]
  },
  {
   "cell_type": "markdown",
   "id": "c64273d8-13d8-48c0-8c4c-62783b0d2fcc",
   "metadata": {},
   "source": [
    "Trotter-Suzuki writes $H=\\sum a_{i}H_{i}$ and with each $H_{i}$ simple for quantum circuits to simulate. Then run $U(t)~\\Pi_{i}(e^{\\frac{-iH_{i}t}{r}})^{r}$"
   ]
  },
  {
   "cell_type": "markdown",
   "id": "504b5585-5ff3-4119-9a8c-b00e1facfac7",
   "metadata": {},
   "source": [
    "# Interactive/adaptive quantum many body evolution"
   ]
  },
  {
   "cell_type": "markdown",
   "id": "edc8d073-4083-45ea-bd7f-2ad9e4d65c02",
   "metadata": {},
   "source": [
    "Post selection problem is an inevitable issue to observe phenomena like measurement induced quantum phase transition in any quantum simulator. "
   ]
  },
  {
   "cell_type": "markdown",
   "id": "4e91bb3c-427d-4f76-bc9b-4a29e1eebfc7",
   "metadata": {},
   "source": [
    "Quantum circuit with finite depth can only connect short range entangled states with the other state within the same class(short range entangled). With measurement and feedback being added in quantum circuit, short range entangled state could be evolved into long range entangled state in a controllable way. "
   ]
  },
  {
   "cell_type": "markdown",
   "id": "1e36b62c-92bf-4101-9831-145749b90598",
   "metadata": {},
   "source": [
    "Recently, using adaptive protocol to prepare a non-Abelian topological ordered state is realized in trapped ion systems[N.Tantivasadakarn (2022)]. "
   ]
  },
  {
   "cell_type": "markdown",
   "id": "9761b191-85dd-4929-87a1-dcadddb7297c",
   "metadata": {},
   "source": []
  },
  {
   "cell_type": "markdown",
   "id": "099cd4ad-4d0b-419f-b5e2-a583e462deee",
   "metadata": {},
   "source": [
    "# Non-Thermal and Thermal state via Quantum states engineering?"
   ]
  },
  {
   "cell_type": "markdown",
   "id": "76ecb1d8-962d-4cf3-a62c-2040acf62a25",
   "metadata": {},
   "source": [
    "Q: Extracting information are always more convenient via operators or via quantum states for different scenario, which are more for operators and which are for states?"
   ]
  },
  {
   "cell_type": "markdown",
   "id": "68ac35e7-f1db-4c1d-8121-ed23a09d81f2",
   "metadata": {},
   "source": [
    "Quantum states engineering is applicable via quantum simulation. There are many variants of quantum state engineering via driven sources outside, internal parameters tuning via laser, etc. Recently, measurement has been an emergent tool to accomplish this task in a different manner in quantum circuits. Measurement can collapse quantum states a whole or a portion. "
   ]
  },
  {
   "cell_type": "markdown",
   "id": "d3efb10d-ac99-4b4f-89d2-b118b09b3857",
   "metadata": {},
   "source": [
    "# Physical learning machine"
   ]
  },
  {
   "cell_type": "markdown",
   "id": "c1f139ff-9e7e-443d-8b25-fd99cb0cea1b",
   "metadata": {},
   "source": [
    "By appropriate design, physical systems could be a self-learning machine, in which the nonlinear activation function and back propagation is played by internal degrees of freedom as long as the Hamiltonian is time-reversal[5]."
   ]
  },
  {
   "cell_type": "markdown",
   "id": "e623c0c5-3545-4f2f-95de-2ad5aedee81d",
   "metadata": {},
   "source": [
    "It would be appealing if similar environment could be simulated in quantum circuits. However, introducing non-linearity in quantum circuits is still an open area of exploration[6]."
   ]
  },
  {
   "cell_type": "markdown",
   "id": "1a8d40bc-7e05-4ad2-8366-12126ea1cae3",
   "metadata": {},
   "source": [
    "# Extract physics in learning process. Machine learning as classical non-equilibrium dynamics."
   ]
  },
  {
   "cell_type": "markdown",
   "id": "378a9059-fd54-4d05-9b6d-16126aa682d5",
   "metadata": {},
   "source": [
    "By classify different physical systems by their dynamics in terms of the ability to thermalize and wondering the possibility of viewing thermalization as a learning process seems interesting. What is this learning mechanism and what parameters are being tuned to approach the thermal state. Or, would monitored random unitary circuits with some adaptive interaction with a learning machine provid some insights? What's the alternative view on the mechanism of breaking of thermalization. "
   ]
  },
  {
   "cell_type": "markdown",
   "id": "823dd7df-afc8-40e7-926b-c962424e019b",
   "metadata": {},
   "source": [
    "There has been connections made between classical non-equilibrium dynamics and machine learning, how is quantum non-equilibrium dynamics could inspire machine learning. Entanglement should essentially be the centrel role, however, could entanglement be directly connected to machinie learning is still an intractable problem. Learning as a physical process still seems to be in the regime of classical physics. "
   ]
  },
  {
   "cell_type": "markdown",
   "id": "9db6d42e-f050-458b-92ef-2b7331cedba1",
   "metadata": {},
   "source": [
    "Physical learning machine is the paradigm of designing or seeking for physical processes to directly realize learning algorithm. Is there a route to design a dynamics that is marked as certain class of thermalization and also manifests learning mechanism?"
   ]
  },
  {
   "cell_type": "markdown",
   "id": "e81ccfa0-da4e-4a31-b718-3e9a5e478d4f",
   "metadata": {},
   "source": [
    "# Machine learning quantum physics [7]"
   ]
  },
  {
   "cell_type": "markdown",
   "id": "5b31dcfb-2809-4093-9d79-9949afcdfd2e",
   "metadata": {},
   "source": [
    "Besides treating machine learning as a physical system and dynamics, a more practical side is to treat machine learning as a computational method to solve problems, just like other classical simulation, albeit in a form of data driven perspectives(sometimes refer to reverse problems)."
   ]
  },
  {
   "cell_type": "markdown",
   "id": "a26d4abc-9bb6-41c5-b086-03a9d1297134",
   "metadata": {},
   "source": [
    "In addition to the early works of applying machine learning to study properties of quantum systems, introducing quantum to learning algorithm gave rise to quantum machine learning, a set of methods that are still classical machine learning, albeit interact with quantum circuit model."
   ]
  },
  {
   "cell_type": "markdown",
   "id": "b28a138d-48ec-469d-8ffb-ae65cb3ea31e",
   "metadata": {},
   "source": [
    "The most common one is under the realm of hybrid quantum classical models. (1) Quantum circuits is parametrized and let classical processors control the parameters to perform the tasks of Variational quantum eigensolver(VQE) and Quantum Approximate Optimization Algorithm (QAOA). (2) Design a structured quantum circuit. So that quantum circuit is a quantum model and quantum data generator just like other quantum simulators."
   ]
  },
  {
   "cell_type": "markdown",
   "id": "12c4f6d9-2678-4b3b-bd95-3c0ff38180c8",
   "metadata": {},
   "source": [
    "An algorithm, belongs to (1), called Quantum Variational Autoencoder (QVAE) is applied to detect quantum many body scars, and suggest a way to study models breaking ETH.[8] "
   ]
  },
  {
   "cell_type": "markdown",
   "id": "ba9e6118-97b4-4836-990c-7fd304ee0c70",
   "metadata": {},
   "source": [
    "# Reference"
   ]
  },
  {
   "cell_type": "markdown",
   "id": "d57a73fb-5200-47f3-a1a8-91517a5ee21e",
   "metadata": {},
   "source": [
    "[1] Luca D’Alessio, et. al., \"From Quantum Chaos and Eigenstate Thermalization to Statistical Mechanics and Thermodynamics\", Advances in Physics\n",
    "Vol. 65, No. 3, 239-362 (2016)"
   ]
  },
  {
   "cell_type": "markdown",
   "id": "099f6c9b-3acb-4241-b57d-3678864ce843",
   "metadata": {},
   "source": [
    "[2] A. M. Kaufman, et. al., \"Quantum thermalization through entanglement in an isolated many-body system\n",
    "\", Science 353, 794 (2016)"
   ]
  },
  {
   "cell_type": "markdown",
   "id": "11f48503-4e8a-4efb-8270-03421f8b8ce3",
   "metadata": {},
   "source": [
    "[3] Julius Lehmann, et. al., \"Fragmentation-induced localization and boundary charges in dimensions two and above\", SciPost Phys. 14, 140 (2023)"
   ]
  },
  {
   "cell_type": "markdown",
   "id": "c6f75609-15ea-496e-ad3f-a52252a20b08",
   "metadata": {},
   "source": [
    "[4] Nandkishore, Hermele, ARCMP(2019)"
   ]
  },
  {
   "cell_type": "markdown",
   "id": "b1656d9b-c352-4f4b-ad93-f1e77159419f",
   "metadata": {},
   "source": [
    "[4] C. F. Chen, et. al., \"Operator growth bounds from graph theory\", Communications in Mathematical Physics, (2021)"
   ]
  },
  {
   "cell_type": "markdown",
   "id": "d6407494-1804-4aaa-a505-9bc68ddf5c20",
   "metadata": {},
   "source": [
    "[5] Victor Lopez-Pastor, et. al.,\"Self-learning machines based on Hamiltonian echo backpropagation\", PHYSICAL REVIEW X 13, 031020 (2023)"
   ]
  },
  {
   "cell_type": "markdown",
   "id": "e76ad6a5-1adc-4614-b080-03688b4e8e61",
   "metadata": {},
   "source": [
    "[6] Zoë Holmes et. al., \"Nonlinear transformations in quantum computation\", PHYSICAL REVIEW RESEARCH 5, 013105 (2023)"
   ]
  },
  {
   "cell_type": "markdown",
   "id": "634715ca-602e-4c5d-b345-523ae7c44278",
   "metadata": {},
   "source": [
    "[7] Anna Dawid, et. al., \"Modern applications of machine learning in quantum sciences\", \tarXiv:2204.04198"
   ]
  },
  {
   "cell_type": "markdown",
   "id": "0a22d2f0-4025-4b30-bbe0-5e94d9753f35",
   "metadata": {},
   "source": [
    "[8] T. Szołdra, et. al., \"Detecting ergodic bubbles at the crossover to many-body localization using neural networks\", Phys. Rev. B 104, L140202 (2021)"
   ]
  },
  {
   "cell_type": "code",
   "execution_count": null,
   "id": "18d93072-8685-478e-a554-d47ad7d421fc",
   "metadata": {},
   "outputs": [],
   "source": []
  }
 ],
 "metadata": {
  "kernelspec": {
   "display_name": "Python 3 (ipykernel)",
   "language": "python",
   "name": "python3"
  },
  "language_info": {
   "codemirror_mode": {
    "name": "ipython",
    "version": 3
   },
   "file_extension": ".py",
   "mimetype": "text/x-python",
   "name": "python",
   "nbconvert_exporter": "python",
   "pygments_lexer": "ipython3",
   "version": "3.11.5"
  }
 },
 "nbformat": 4,
 "nbformat_minor": 5
}
