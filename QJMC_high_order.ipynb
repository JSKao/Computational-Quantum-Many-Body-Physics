{
 "cells": [
  {
   "cell_type": "code",
   "execution_count": 3,
   "id": "2a199d69-c0da-4907-aeb4-c4fb1d32d4c3",
   "metadata": {
    "editable": true,
    "slideshow": {
     "slide_type": ""
    },
    "tags": []
   },
   "outputs": [],
   "source": [
    "import numpy as np\n",
    "import matplotlib.pyplot as plt\n",
    "import random\n",
    "from scipy.linalg import expm\n",
    "from scipy.integrate import odeint\n",
    "from scipy.integrate import ode\n",
    "from scipy.optimize import fsolve\n",
    "from tqdm import tqdm\n",
    "import time"
   ]
  },
  {
   "cell_type": "code",
   "execution_count": 6,
   "id": "a0bac19b-e5ba-417d-9641-808051175667",
   "metadata": {
    "editable": true,
    "slideshow": {
     "slide_type": ""
    },
    "tags": []
   },
   "outputs": [],
   "source": [
    "def dagger(matrix):\n",
    "    return np.transpose(np.conj(matrix))\n",
    "\n",
    "def commutator(matrix_1, matrix_2, sign):\n",
    "    if sign == 0:\n",
    "        return matrix_1 @ matrix_2 - matrix_2 @ matrix_1\n",
    "    else:\n",
    "        return matrix_1 @ matrix_2 + matrix_2 @ matrix_1\n",
    "    \n",
    "def propagate(state, H_eff, dt):\n",
    "    U_eff = expm(-1j * H_eff * dt)\n",
    "    state = U_eff @ state\n",
    "    dp = 1 - np.linalg.norm(state)\n",
    "    return state, dp\n"
   ]
  },
  {
   "cell_type": "code",
   "execution_count": null,
   "id": "411b50cc-82a0-4cfa-81fa-f17d8b1de74d",
   "metadata": {},
   "outputs": [],
   "source": []
  },
  {
   "cell_type": "code",
   "execution_count": 2,
   "id": "01b536ec-8b9c-4c2a-b2a5-055e82729cc3",
   "metadata": {
    "editable": true,
    "slideshow": {
     "slide_type": ""
    },
    "tags": []
   },
   "outputs": [],
   "source": [
    "# For N = 1 , {|g), |e)}\n",
    "# For N = 2 , {|g)|g), |g)|e), |e)|g), |e)|e)}\n",
    "def phi_basis_vecs(N):\n",
    "    phi = np.array([[0+0j]*(2**N)]).transpose()\n",
    "    base = []\n",
    "    for i in range(2**N):\n",
    "        phi[i] += 1\n",
    "        base.append(phi)\n",
    "        phi = np.array([[0+0j]*(2**N)]).transpose()\n",
    "    return base\n",
    "\n",
    "# For N = 1 , {GG=|g)(g|, GE=|g)(e|, EG=|e)(g|, EE=|e)(e|}\n",
    "# For N = 2 , {GGGG,GGGE,GGEG,GGEE,GEGG,GEGE,GEEG,GEEE,EGGG,EGGE,EGEG,EGEE,EEGG,EEGE,EEEG,EEEE}\n",
    "def rho_basis_ops(N):\n",
    "    zero = np.zeros((2,2), dtype = complex)\n",
    "    rho = np.zeros((2,2), dtype = complex)\n",
    "    base = []\n",
    "    for i in range(N-1):\n",
    "        rho = np.kron(rho, zero)\n",
    "    for i in range(2**N):\n",
    "        for j in range(2**N):\n",
    "            rho[i][j] = 1\n",
    "            base.append(rho)\n",
    "            rho= np.zeros((rho.shape), dtype = complex)\n",
    "    return base\n",
    "\n",
    "def id(N):\n",
    "    matrix = np.array([[1, 0],[0, 1]], dtype = complex)\n",
    "    identity = np.array([[1, 0],[0, 1]], dtype = complex)\n",
    "    for i in range(N-1):\n",
    "        matrix = np.kron(matrix,identity)\n",
    "    return matrix\n",
    "\n",
    "def S_x(N, n):\n",
    "    s_x = np.array([[0, 1], [1, 0]], dtype=complex)\n",
    "    identity = np.array([[1, 0],[0, 1]], dtype = complex)\n",
    "    matrix = np.array([1], dtype = complex)\n",
    "    for i in range(N):\n",
    "        if i != n-1:\n",
    "            matrix = np.kron(matrix, identity)\n",
    "        elif i == n-1:\n",
    "            matrix = np.kron(matrix, s_x)\n",
    "    return matrix\n",
    "\n",
    "def S_plus(N, n):\n",
    "    s_plus =  np.array([[0, 0], [1, 0]], dtype=complex)\n",
    "    identity = np.array([[1, 0],[0, 1]], dtype = complex)\n",
    "    matrix = np.array([1], dtype = complex)\n",
    "    for i in range(N):\n",
    "        if i != n-1:\n",
    "            matrix = np.kron(matrix, identity)\n",
    "        elif i == n-1:\n",
    "            matrix = np.kron(matrix, s_plus)\n",
    "    return matrix\n",
    "\n",
    "def S_minus(N, n):\n",
    "    s_minus = np.array([[0, 1], [0, 0]], dtype=complex)\n",
    "    identity = np.array([[1, 0],[0, 1]], dtype = complex)\n",
    "    matrix = np.array([1], dtype = complex)\n",
    "    for i in range(N):\n",
    "        if i != n-1:\n",
    "            matrix = np.kron(matrix, identity)\n",
    "        elif i == n-1:\n",
    "            matrix = np.kron(matrix, s_minus)\n",
    "    return matrix"
   ]
  },
  {
   "cell_type": "markdown",
   "id": "5a335f3d-32bd-4f06-a64a-0a87f5c5ed5a",
   "metadata": {},
   "source": [
    "# Higher order integration of wavefunction in Quantum Jump Monte Carlo method\n",
    "\n",
    "\n",
    "Pseudo-code for higher order integration of wavefunction:\n",
    "\n",
    "1. Pick a random number r lying in (0,1)\n",
    "2. Solve $t_{1}$ in the equation $||e^{-iH_{eff}(t_{1}-t)}\\ket{\\psi(t)}||^{2} = r$ \n",
    "3. Propagate the state $\\ket{\\psi(t)}$ from current time $t$ to the chosen time $t_{1}$ : Apply $e^{-iH_{eff}\\delta t}\\ket{\\psi(t)}$ M times, where M is number of segments for the time interval $(t, t_{1})$, each segment is of length $\\delta t$\n",
    "4. Jump occurs at time $t_{1}$ : Apply $L\\ket{\\psi(t_{1})}$\n",
    "5. Update current time $t$ to $t_{1}$\n",
    "6. Starting from t = 0 , repeat the above 1.~5. until t > t_total"
   ]
  },
  {
   "cell_type": "code",
   "execution_count": 7,
   "id": "3a3fcb82-38d3-4c7f-8de5-2a8034409fff",
   "metadata": {
    "editable": true,
    "slideshow": {
     "slide_type": ""
    },
    "tags": []
   },
   "outputs": [],
   "source": [
    "omega = 18\n",
    "gamma = omega / 3\n",
    "L = S_minus(1,1)\n",
    "H = omega * S_x(1,1)\n",
    "H_eff = H - 1j/2 * gamma * dagger(L) @ L\n",
    "dt = 0.000001"
   ]
  },
  {
   "cell_type": "code",
   "execution_count": 9,
   "id": "63c089d6-9f84-4533-afb2-2ca67f45de08",
   "metadata": {
    "editable": true,
    "slideshow": {
     "slide_type": ""
    },
    "tags": []
   },
   "outputs": [
    {
     "name": "stdout",
     "output_type": "stream",
     "text": [
      "[[1.+0.j]\n",
      " [0.+0.j]]\n",
      "[[1.+0.j]\n",
      " [0.+0.j]]\n",
      "3.3306690738754696e-16\n"
     ]
    }
   ],
   "source": [
    "current_time = 0\n",
    "state = phi_basis_vecs(1)[0]\n",
    "print(state)\n",
    "\n",
    "state_1, dp = propagate(state, H_eff, dt)\n",
    "print(state)\n",
    "print(dp)"
   ]
  },
  {
   "cell_type": "code",
   "execution_count": null,
   "id": "54a41adc-be03-4741-ad9b-e4acce32d483",
   "metadata": {
    "editable": true,
    "slideshow": {
     "slide_type": ""
    },
    "tags": []
   },
   "outputs": [],
   "source": [
    "# Higher order integration of wavefunction in Quantum Jump Monte Carlo method\n",
    "\n",
    "\n",
    "t_total = 1.2\n",
    "U_eff = expm(-1j * H_eff * dt) \n",
    "\n",
    "\n",
    "N = 700\n",
    "N_ne_values = []  \n",
    "N_state_vecs = []  \n",
    "for n in tqdm(range(N)):  \n",
    "\n",
    "    state = phi_basis_vecs(1)[0]\n",
    "    t_current = 0.0\n",
    "    \n",
    "    \n",
    "    def norm_sqrt(state):\n",
    "        return np.linalg.norm(state)**2\n",
    "    def equation(t_next, t_current, H_eff, state, r):\n",
    "        term = expm(-1j * H_eff * (t_next - t_current)) @ state \n",
    "        return np.linalg.norm(term)**2 - r\n",
    "    \n",
    "    jump_num = 0\n",
    "    state_vecs = []\n",
    "    ne_values = []\n",
    "    while t_current < total_t: \n",
    "        #print(\"Current time is\", t_current) \n",
    "        \n",
    "        # at time t    \n",
    "        # solve t_next for |exp[-i * H_eff(t_next-t_current)]|phi(t_current)>|^2 = r , where r is random number 0 to 1\n",
    "        r = np.random.rand()\n",
    "        r = round(r, 5)\n",
    "        t_next = fsolve(equation, 0.00001+t_current, args=(t_current, H_eff, state, r))[0]\n",
    "        t_next = round(t_next, 5)\n",
    "        #print(\"Correspond to random number\",r, \",the chosen t_next is\", t_next) \n",
    "        \n",
    "        if t_next > total_t:\n",
    "            t_interval = np.arange(t_current, t_total, dt)\n",
    "            #print(\"Propagate the wavefunction through the time interval [\", t_current,\", \",t_total, \"], with \",len(t_interval),\" time steps\") \n",
    "        else:\n",
    "            t_interval = np.arange(t_current, t_next, dt)\n",
    "            #print(\"Propagate the wavefunction through the time interval [\", t_current,\", \",t_next, \"], with \",len(t_interval),\" time steps\") \n",
    "    \n",
    "        # propagate the state by U_eff = expm(-1j * H_eff * dt) from t_current to t_next\n",
    "        for t in t_interval:\n",
    "            state = U_eff @ state\n",
    "            state = state / np.linalg.norm(state)\n",
    "            state_vecs.append(state)\n",
    "            ne = np.abs(state[1][0])**2\n",
    "            ne_values.append(ne) \n",
    "    \n",
    "        # at time = t_next , apply jump operator to the state\n",
    "        if t_next < t_total:\n",
    "            #print(\"Jump occurs at t =\", t_next)\n",
    "            #print(\"Just before the jump, the state is:\", state)\n",
    "            jump_num += 1\n",
    "            state = L @ state\n",
    "            state = state / np.linalg.norm(state)\n",
    "            #print(\"Just after the jump, the state is:\", state)\n",
    "            state_vecs.append(state)\n",
    "            ne = np.abs(state[1][0])**2\n",
    "            ne_values.append(ne) \n",
    "    \n",
    "        # update time t_current to time t_next\n",
    "        t_current = t_next\n",
    "        \n",
    "    time_values = np.arange(0, t_total, dt)\n",
    "\n",
    "    N_state_vecs.append(np.array(state_vecs))\n",
    "    N_ne_values.append(np.array(ne_values))\n",
    "\n",
    "print(\"Simulation complete\")"
   ]
  },
  {
   "cell_type": "code",
   "execution_count": null,
   "id": "d3165a27-d8e8-45b4-a0db-cac7af435c57",
   "metadata": {},
   "outputs": [],
   "source": [
    "for n in range(N):\n",
    "    N_ne_values[n] = N_ne_values[n][:len(time_values)]\n",
    "\n",
    "plt.figure(figsize=(8,6))\n",
    "plt.plot(time_values, N_ne_values[0], label='ne1(t)')\n",
    "plt.plot(time_values, N_ne_values[2], label='ne2(t)')\n",
    "plt.title('time-evolved excitation density')\n",
    "plt.xlabel('Time')\n",
    "plt.ylabel('n_e(t)')\n",
    "plt.legend()\n",
    "plt.show()"
   ]
  },
  {
   "cell_type": "code",
   "execution_count": null,
   "id": "d1477133-3ac9-476c-b247-840f448e0cbd",
   "metadata": {},
   "outputs": [],
   "source": [
    "N_ne_sum = np.zeros((len(N_ne_values[0])), dtype=complex)\n",
    "for n in range(N):\n",
    "    N_ne_sum += N_ne_values[n]\n",
    "\n",
    "N_ne_avg = N_ne_sum / N\n",
    "\n",
    "plt.figure(figsize=(8,6))\n",
    "plt.plot(time_values, N_ne_avg, label='ne(t)')\n",
    "\n",
    "plt.title('time-evolved excitation density')\n",
    "plt.xlabel('Time')\n",
    "plt.ylabel('n_e(t)')\n",
    "plt.legend()\n",
    "plt.show()"
   ]
  },
  {
   "cell_type": "code",
   "execution_count": 3,
   "id": "b4462edd-862c-4777-8a72-dc373b4a6f92",
   "metadata": {},
   "outputs": [
    {
     "name": "stderr",
     "output_type": "stream",
     "text": [
      "UsageError: Line magic function `%%capture` not found.\n"
     ]
    },
    {
     "data": {
      "text/plain": [
       "<Figure size 800x600 with 0 Axes>"
      ]
     },
     "metadata": {},
     "output_type": "display_data"
    }
   ],
   "source": [
    "A = [1,2,3,4]\n",
    "B = [1,2,3,4]\n",
    "plt.figure(figsize=(8,6))\n",
    "%%capture captured_plot1\n",
    "plt.plot(A, B, label='y=x')\n",
    "plt.title('Fig.1')\n",
    "plt.xlabel('x')\n",
    "plt.ylabel('y')\n",
    "plt.legend()\n",
    "plt.show()"
   ]
  },
  {
   "cell_type": "code",
   "execution_count": null,
   "id": "147e00c0-6454-4fdb-b4b2-921a8fe19d6b",
   "metadata": {},
   "outputs": [],
   "source": []
  }
 ],
 "metadata": {
  "kernelspec": {
   "display_name": "Python 3 (ipykernel)",
   "language": "python",
   "name": "python3"
  },
  "language_info": {
   "codemirror_mode": {
    "name": "ipython",
    "version": 3
   },
   "file_extension": ".py",
   "mimetype": "text/x-python",
   "name": "python",
   "nbconvert_exporter": "python",
   "pygments_lexer": "ipython3",
   "version": "3.11.5"
  }
 },
 "nbformat": 4,
 "nbformat_minor": 5
}
