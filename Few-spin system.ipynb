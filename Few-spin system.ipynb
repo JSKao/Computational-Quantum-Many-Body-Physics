{
 "cells": [
  {
   "cell_type": "markdown",
   "id": "fc1eae87-98c1-4324-b229-d876cbcc1166",
   "metadata": {},
   "source": [
    "# In this notebook, some basic notions such as reduced density matrices, entanglement entropy are practiced, for different size of spin systems. "
   ]
  },
  {
   "cell_type": "code",
   "execution_count": 1,
   "id": "8a56132c-84e5-4d94-9258-6fadfecc52c6",
   "metadata": {},
   "outputs": [],
   "source": [
    "import numpy as np\n",
    "import matplotlib.pyplot as plt"
   ]
  },
  {
   "cell_type": "markdown",
   "id": "bbcbfba3-06ba-43e3-99ad-985dc17756e3",
   "metadata": {},
   "source": [
    "# One Spin system"
   ]
  },
  {
   "cell_type": "markdown",
   "id": "fc4eb724-3e2d-40de-a284-54ca91406665",
   "metadata": {},
   "source": [
    "Quantum states : |0> and |1>\n",
    "Simulate their superposition |ψ⟩ = α|0⟩ + β|1⟩\n",
    "Normalize it \n",
    "Calculate their density matrix\n",
    "Calculate the entropy"
   ]
  },
  {
   "cell_type": "code",
   "execution_count": 2,
   "id": "c112451f-b713-46e1-8726-53767c64cc82",
   "metadata": {},
   "outputs": [
    {
     "name": "stdout",
     "output_type": "stream",
     "text": [
      "Basis State: [1 0]\n",
      "Basis State: [0 1]\n",
      "Quantum State: [ 0.5+0.5j -0.5+0.5j]\n",
      "Density Matrix of the state |0⟩: [[1 0]\n",
      " [0 0]]\n",
      "Density Matrix of the state |1⟩: [[0 0]\n",
      " [0 1]]\n",
      "Density Matrix of the state |ψ⟩: [[0.5+0.j  0. -0.5j]\n",
      " [0. +0.5j 0.5+0.j ]]\n",
      "Renyi entropy (alpha=2): 0\n"
     ]
    }
   ],
   "source": [
    "# Define quantum state |0⟩\n",
    "zero_state = np.array([1, 0])\n",
    "\n",
    "# Define quantum state |1⟩\n",
    "one_state = np.array([0, 1])\n",
    "\n",
    "# Define complex coefficients for superposition\n",
    "alpha = 1/np.sqrt(2) * (1 + 1j)  # Complex α with real and imaginary parts\n",
    "beta = 1/np.sqrt(2) * (-1 + 1j)  # Complex β with real and imaginary parts\n",
    "\n",
    "# Create the qubit state |ψ⟩ = α|0⟩ + β|1⟩\n",
    "qubit_state = alpha * zero_state + beta * one_state\n",
    "\n",
    "# Calculate the norm of the qubit state |ψ⟩ = α|0⟩ + β|1⟩\n",
    "state_norm = np.abs(alpha)**2 + np.abs(beta)**2\n",
    "\n",
    "# Check if the state is normalized, if not, normalize it\n",
    "if np.isclose(state_norm, 1.0):\n",
    "    print(\"The quantum state is normalized.\")\n",
    "else:\n",
    "    alpha = alpha / np.sqrt(state_norm)\n",
    "    beta = beta / np.sqrt(state_norm)\n",
    "\n",
    "# Normalized qubit state |ψ⟩ = α|0⟩ + β|1⟩\n",
    "qubit_state = alpha * zero_state + beta * one_state\n",
    "\n",
    "# Density matrix\n",
    "rho_0 = np.outer(zero_state, zero_state.conj())\n",
    "rho_1 = np.outer(one_state, one_state.conj())\n",
    "rho = np.outer(qubit_state, qubit_state.conj())\n",
    "\n",
    "# Renyi entropy（alpha=2）\n",
    "alpha = 2\n",
    "rho_alpha = np.linalg.matrix_power(rho, alpha)\n",
    "tr_rho_alpha = np.trace(rho_alpha)\n",
    "renyi_entropy = (1 / (1 - alpha)) * np.log2(tr_rho_alpha)\n",
    "if np.isclose(renyi_entropy, 0.0):\n",
    "    renyi_entropy = 0\n",
    "    \n",
    "\n",
    "print(\"Basis State:\", zero_state)\n",
    "print(\"Basis State:\", one_state)\n",
    "print(\"Quantum State:\", qubit_state)\n",
    "print(\"Density Matrix of the state |0⟩:\", rho_0)\n",
    "print(\"Density Matrix of the state |1⟩:\", rho_1)\n",
    "print(\"Density Matrix of the state |ψ⟩:\", rho)\n",
    "print(f\"Renyi entropy (alpha={alpha}): {renyi_entropy}\")"
   ]
  },
  {
   "cell_type": "markdown",
   "id": "d403684b-e47b-4a9e-ac94-b4808fe4b312",
   "metadata": {},
   "source": [
    "Quantum operators\n",
    "For qubits, try universal quantum gates X Y Z H\n",
    "Check their unitarity"
   ]
  },
  {
   "cell_type": "code",
   "execution_count": 3,
   "id": "13f72924-aff3-4c41-968d-1ed7cf09608f",
   "metadata": {},
   "outputs": [
    {
     "name": "stdout",
     "output_type": "stream",
     "text": [
      "Pauli-X (X) is Unitary: True\n",
      "Pauli-Y (Y) is Unitary: True\n",
      "Pauli-Z (Z) is Unitary: True\n",
      "Hadamard (H) is Unitary: True\n"
     ]
    }
   ],
   "source": [
    "# Define the Pauli-X gate (X)\n",
    "X_gate = np.array([[0, 1], [1, 0]])\n",
    "\n",
    "# Define the Pauli-Y gate (Y)\n",
    "Y_gate = np.array([[0, -1j], [1j, 0]])\n",
    "\n",
    "# Define the Pauli-Z gate (Z)\n",
    "Z_gate = np.array([[1, 0], [0, -1]])\n",
    "\n",
    "# Define the Hadamard gate (H)\n",
    "H_gate = np.array([[1, 1], [1, -1]]) / np.sqrt(2)\n",
    "\n",
    "# List of gates\n",
    "quantum_gates = [X_gate, Y_gate, Z_gate, H_gate]\n",
    "gate_names = [\"Pauli-X (X)\", \"Pauli-Y (Y)\", \"Pauli-Z (Z)\", \"Hadamard (H)\"]\n",
    "\n",
    "# Check unitarity for each gate\n",
    "for gate, name in zip(quantum_gates, gate_names):\n",
    "    # Calculate the conjugate transpose (adjoint) of the gate\n",
    "    adjoint = np.conjugate(gate.T)\n",
    "    \n",
    "    # Calculate the product of the gate and its adjoint\n",
    "    product = np.dot(gate, adjoint)\n",
    "    \n",
    "    # Check if the gate is unitary (satisfies U * U† = I)\n",
    "    is_unitary = np.allclose(product, np.identity(gate.shape[0]))\n",
    "    \n",
    "    print(f\"{name} is Unitary: {is_unitary}\")\n",
    "\n"
   ]
  },
  {
   "cell_type": "markdown",
   "id": "8952620c-aa8d-4163-87ca-50f16797363b",
   "metadata": {},
   "source": [
    "# Two and three spins system"
   ]
  },
  {
   "cell_type": "markdown",
   "id": "9c329c21-5028-4b8b-8471-588e882bb02c",
   "metadata": {},
   "source": [
    "Quantum states : |00⟩, |01⟩, |10⟩, |11⟩\n",
    "Simulate Bell states, GHZ state, W state \n",
    "Reduced density matrices\n",
    "Entropy"
   ]
  },
  {
   "cell_type": "code",
   "execution_count": 4,
   "id": "4db307f6-c75c-4e3e-ae54-bb1a1bb88dd4",
   "metadata": {},
   "outputs": [
    {
     "name": "stdout",
     "output_type": "stream",
     "text": [
      "|ψ⟩： [1 0 0 0]\n",
      "|ψ⟩： [0 1 0 0]\n",
      "|ψ⟩： [0 0 1 0]\n",
      "|ψ⟩： [0 0 0 1]\n",
      "|ψ⟩： [1 0 0 0 0 0 0 0]\n",
      "|ψ⟩： [0 1 0 0 0 0 0 0]\n",
      "|ψ⟩： [0 0 1 0 0 0 0 0]\n",
      "|ψ⟩： [0 0 0 0 1 0 0 0]\n",
      "|ψ⟩： [0 0 0 0 0 0 0 1]\n"
     ]
    }
   ],
   "source": [
    "# Define quantum state |00⟩, |01⟩, |10⟩, |11⟩\n",
    "zero_zero = np.kron(zero_state, zero_state)\n",
    "zero_one = np.kron(zero_state, one_state)\n",
    "one_zero = np.kron(one_state, zero_state)\n",
    "one_one = np.kron(one_state, one_state)\n",
    "\n",
    "# Define quantum state |000⟩, |001⟩, |010⟩, |100⟩, |111⟩\n",
    "zero_zero_zero = np.kron(np.kron(zero_state, zero_state),zero_state)\n",
    "zero_zero_one = np.kron(np.kron(zero_state, zero_state),one_state)\n",
    "zero_one_zero = np.kron(np.kron(zero_state, one_state),zero_state)\n",
    "one_zero_zero = np.kron(np.kron(one_state, zero_state),zero_state)\n",
    "one_one_one = np.kron(np.kron(one_state, one_state),one_state)\n",
    "\n",
    "print(\"|ψ⟩：\", zero_zero)\n",
    "print(\"|ψ⟩：\", zero_one)\n",
    "print(\"|ψ⟩：\", one_zero)\n",
    "print(\"|ψ⟩：\", one_one)\n",
    "\n",
    "print(\"|ψ⟩：\", zero_zero_zero)\n",
    "print(\"|ψ⟩：\", zero_zero_one)\n",
    "print(\"|ψ⟩：\", zero_one_zero)\n",
    "print(\"|ψ⟩：\", one_zero_zero)\n",
    "print(\"|ψ⟩：\", one_one_one)\n",
    "\n"
   ]
  },
  {
   "cell_type": "code",
   "execution_count": 5,
   "id": "d7952825-6556-4b6b-8f20-d3b48dc57095",
   "metadata": {},
   "outputs": [],
   "source": [
    "# Initialize an empty dictionary to store Bell states and their density matrices\n",
    "two_qubit_states = {}\n",
    "\n",
    "# Bell states: |Φ⁺⟩, |Φ⁻⟩, |Ψ⁺⟩, |Ψ⁻⟩\n",
    "phi_plus = (zero_zero + one_one) / np.sqrt(2)\n",
    "phi_minus = (zero_zero - one_one) / np.sqrt(2)\n",
    "psi_plus = (zero_one + one_zero) / np.sqrt(2)\n",
    "psi_minus = (zero_one - one_zero) / np.sqrt(2)\n"
   ]
  },
  {
   "cell_type": "code",
   "execution_count": 6,
   "id": "38c4389b-9828-4b65-8c58-99a430ec3bce",
   "metadata": {
    "scrolled": true
   },
   "outputs": [
    {
     "name": "stdout",
     "output_type": "stream",
     "text": [
      "['1st Bell State', '2st Bell State', '3st Bell State', '4st Bell state']\n"
     ]
    }
   ],
   "source": [
    "# Density matrices of Bell states\n",
    "rho_phi_plus = np.outer(phi_plus, np.conj(phi_plus))\n",
    "rho_phi_minus = np.outer(phi_minus, np.conj(phi_minus))\n",
    "rho_psi_plus = np.outer(psi_plus, np.conj(psi_plus))\n",
    "rho_psi_minus = np.outer(psi_minus, np.conj(psi_minus))\n",
    "\n",
    "# Store to the two qubit state dictionary\n",
    "two_qubit_states[\"1st Bell State\"] = {\n",
    "    \"State\" : phi_plus,\n",
    "    \"Density Matrix\" : rho_phi_plus,\n",
    "}\n",
    "two_qubit_states[\"2st Bell State\"] = {\n",
    "    \"State\" : phi_minus,\n",
    "    \"Density Matrix\" : rho_phi_minus,\n",
    "}\n",
    "two_qubit_states[\"3st Bell State\"] = {\n",
    "    \"State\" : psi_plus,\n",
    "    \"Density Matrix\" : rho_psi_plus,\n",
    "}\n",
    "two_qubit_states[\"4st Bell state\"] = {\n",
    "    \"State\" : psi_minus,\n",
    "    \"Density Matrix\" : rho_psi_minus,\n",
    "}\n",
    "bell_list = list(two_qubit_states.keys())\n",
    "print(bell_list)"
   ]
  },
  {
   "cell_type": "markdown",
   "id": "0a2d95f4-daf3-4b5a-bf24-4ac85bb67cc3",
   "metadata": {},
   "source": [
    "Let's practice the calculation of reduced density matrix and entanglement entropy"
   ]
  },
  {
   "cell_type": "code",
   "execution_count": 7,
   "id": "350e299b-a096-4aac-86fb-400bcd994dd2",
   "metadata": {},
   "outputs": [
    {
     "name": "stdout",
     "output_type": "stream",
     "text": [
      "Density matrix of |Φ⁺⟩： [[0.5 0.  0.  0.5]\n",
      " [0.  0.  0.  0. ]\n",
      " [0.  0.  0.  0. ]\n",
      " [0.5 0.  0.  0.5]]\n",
      "Reduced density matrix of |Φ⁺⟩： [[0.5 0. ]\n",
      " [0.  0.5]]\n",
      "Reduced density matrix of |Φ⁻⟩： [[0.5 0. ]\n",
      " [0.  0.5]]\n",
      "Reduced density matrix of |Ψ⁺⟩： [[0.5 0. ]\n",
      " [0.  0.5]]\n",
      "Reduced density matrix of |Ψ⁻⟩： [[0.5 0. ]\n",
      " [0.  0.5]]\n",
      "Von Neumann Entropy for Bell States:\n",
      "|Phi^+>: 0.5000000000000001\n",
      "|Phi^->: 0.5000000000000001\n",
      "|Psi^+>: 0.5000000000000001\n",
      "|Psi^->: 0.5000000000000001\n",
      "\n",
      "Renyi Entropy (alpha=2) for Bell States:\n",
      "|Phi^+>: 2.0000000000000013\n",
      "|Phi^->: 2.0000000000000013\n",
      "|Psi^+>: 2.0000000000000013\n",
      "|Psi^->: 2.0000000000000013\n"
     ]
    }
   ],
   "source": [
    "# Reshape the density matrix to a 2x2x2x2 tensor (2 qubits)\n",
    "rho_bell_1 = rho_phi_plus.reshape((2, 2, 2, 2))\n",
    "rho_bell_2 = rho_phi_minus.reshape((2, 2, 2, 2))\n",
    "rho_bell_3 = rho_psi_plus.reshape((2, 2, 2, 2))\n",
    "rho_bell_4 = rho_psi_minus.reshape((2, 2, 2, 2))\n",
    "\n",
    "# Reduced density matrices for the first qubit of Bell states\n",
    "rho_1 = np.trace(rho_bell_1, axis1=1, axis2=3)\n",
    "rho_2 = np.trace(rho_bell_2, axis1=1, axis2=3)\n",
    "rho_3 = np.trace(rho_bell_3, axis1=1, axis2=3)\n",
    "rho_4 = np.trace(rho_bell_4, axis1=1, axis2=3)\n",
    "\n",
    "print(\"Density matrix of |Φ⁺⟩：\", rho_phi_plus)\n",
    "print(\"Reduced density matrix of |Φ⁺⟩：\", rho_1)\n",
    "print(\"Reduced density matrix of |Φ⁻⟩：\", rho_2)\n",
    "print(\"Reduced density matrix of |Ψ⁺⟩：\", rho_3)\n",
    "print(\"Reduced density matrix of |Ψ⁻⟩：\", rho_4)\n",
    "\n",
    "# Define a function to calculate von Neumann entropy\n",
    "def von_neumann_entropy(rho):\n",
    "    eigenvalues, _ = np.linalg.eig(rho)\n",
    "    entropy = -np.sum([p * np.log2(p) if p > 0 else 0 for p in eigenvalues])\n",
    "    return entropy\n",
    "\n",
    "# Define a function to calculate Renyi entropy of order alpha\n",
    "def renyi_entropy(rho, alpha):\n",
    "    eigenvalues, _ = np.linalg.eig(rho)\n",
    "    entropy = 1 / (1 - alpha) * np.log2(np.sum([p**alpha for p in eigenvalues]))\n",
    "    return entropy\n",
    "\n",
    "# Calculate entropies of Bell states (alpha = 2 for Renyi)\n",
    "entropy_phi_plus = von_neumann_entropy(np.outer(rho_1, rho_1.conj()))\n",
    "entropy_phi_minus = von_neumann_entropy(np.outer(rho_2, rho_2.conj()))\n",
    "entropy_psi_plus = von_neumann_entropy(np.outer(rho_3, rho_3.conj()))\n",
    "entropy_psi_minus = von_neumann_entropy(np.outer(rho_4, rho_4.conj()))\n",
    "alpha = 2\n",
    "renyi_phi_plus = renyi_entropy(np.outer(rho_1, rho_1.conj()), alpha)\n",
    "renyi_phi_minus = renyi_entropy(np.outer(rho_2, rho_2.conj()), alpha)\n",
    "renyi_psi_plus = renyi_entropy(np.outer(rho_3, rho_3.conj()), alpha)\n",
    "renyi_psi_minus = renyi_entropy(np.outer(rho_4, rho_4.conj()), alpha)\n",
    "\n",
    "print(\"Von Neumann Entropy for Bell States:\")\n",
    "print(f\"|Phi^+>: {entropy_phi_plus}\")\n",
    "print(f\"|Phi^->: {entropy_phi_minus}\")\n",
    "print(f\"|Psi^+>: {entropy_psi_plus}\")\n",
    "print(f\"|Psi^->: {entropy_psi_minus}\")\n",
    "\n",
    "print(\"\\nRenyi Entropy (alpha=2) for Bell States:\")\n",
    "print(f\"|Phi^+>: {renyi_phi_plus}\")\n",
    "print(f\"|Phi^->: {renyi_phi_minus}\")\n",
    "print(f\"|Psi^+>: {renyi_psi_plus}\")\n",
    "print(f\"|Psi^->: {renyi_psi_minus}\")"
   ]
  },
  {
   "cell_type": "markdown",
   "id": "0252c01e-3e00-4384-b08c-91219d23c9e0",
   "metadata": {},
   "source": [
    "Let's pick GHZ state and W state for the practice of three qubit state"
   ]
  },
  {
   "cell_type": "code",
   "execution_count": 8,
   "id": "e38bdd02-7a74-4d95-ad61-abfe8ab70037",
   "metadata": {
    "scrolled": true
   },
   "outputs": [
    {
     "name": "stdout",
     "output_type": "stream",
     "text": [
      "GHZ State\n"
     ]
    }
   ],
   "source": [
    "# Initialize an empty dictionary for three qubit states\n",
    "three_qubit_states = {}\n",
    "\n",
    "# Create the GHZ state |GHZ⟩ = (|000⟩ + |111⟩) / √2\n",
    "GHZ_state = (zero_zero_zero + one_one_one) / np.sqrt(2)\n",
    "\n",
    "# Create the W state |W⟩ = (|001⟩ + |010⟩ + |100⟩) / √3\n",
    "w_state = (zero_zero_one + zero_one_zero + one_zero_zero) / np.sqrt(3)\n",
    "\n",
    "# Calculate the density matrix for the GHZ state and W state\n",
    "rho_GHZ = np.outer(GHZ_state, np.conj(GHZ_state))\n",
    "rho_w = np.outer(w_state, np.conj(w_state))\n",
    "\n",
    "three_qubit_states[\"GHZ State\"] = {\n",
    "    \"State\" : GHZ_state,\n",
    "    \"Density Matrix\" : rho_GHZ,\n",
    "}\n",
    "three_qubit_states[\"W State\"] = {\n",
    "    \"State\" : w_state,\n",
    "    \"Density Matrix\" : rho_w,\n",
    "}\n",
    "\n",
    "print(next(iter(three_qubit_states)))"
   ]
  },
  {
   "cell_type": "markdown",
   "id": "ebdd99c4-3160-4580-abe2-955ba70923d4",
   "metadata": {},
   "source": [
    "# Now introduce a Hamiltonian and study its ground state and some properties of it. Compare it to the spin states created previously. Start from 2 spin case and then 3 spin case."
   ]
  },
  {
   "cell_type": "markdown",
   "id": "0793cca9-70f0-49a3-a0b5-d8e240d0fe8e",
   "metadata": {},
   "source": [
    "Heisenberg model of two spins has only one term \n",
    "$H = J\\vec{S_{1}}\\cdot\\vec{S_{2}} = \\frac{J}{4}(\\sigma_{1,x}\\sigma_{2,x}+\\sigma_{1,y}\\sigma_{2,y}+\\sigma_{1,z}\\sigma_{2,z})$\n"
   ]
  },
  {
   "cell_type": "code",
   "execution_count": 9,
   "id": "62b3bc9c-9ccf-416f-8406-1c01940ad564",
   "metadata": {},
   "outputs": [
    {
     "name": "stdout",
     "output_type": "stream",
     "text": [
      "[[ 0.25+0.j  0.  +0.j  0.  +0.j  0.  +0.j]\n",
      " [ 0.  +0.j -0.25+0.j  0.5 +0.j  0.  +0.j]\n",
      " [ 0.  +0.j  0.5 +0.j -0.25+0.j  0.  +0.j]\n",
      " [ 0.  +0.j  0.  +0.j  0.  +0.j  0.25+0.j]]\n",
      "(4, 4)\n"
     ]
    }
   ],
   "source": [
    "# Interaction strength\n",
    "J = 1.0\n",
    "\n",
    "# Define Pauli matrices for the first and second spins\n",
    "sigma_1_x = np.array([[0, 1], [1, 0]])\n",
    "sigma_1_y = np.array([[0, -1j], [1j, 0]])\n",
    "sigma_1_z = np.array([[1, 0], [0, -1]])\n",
    "\n",
    "sigma_2_x = np.array([[0, 1], [1, 0]])\n",
    "sigma_2_y = np.array([[0, -1j], [1j, 0]])\n",
    "sigma_2_z = np.array([[1, 0], [0, -1]]) \n",
    "\n",
    "# Establish a term in Heisenberg model\n",
    "term2 = np.kron(sigma_1_x, sigma_2_x) + np.kron(sigma_1_y, sigma_2_y) + np.kron(sigma_1_z, sigma_2_z)\n",
    "\n",
    "# Collect the term for Hamiltonian\n",
    "H2 = J/4.0 * term2\n",
    "\n",
    "# Check if the shape of Hamiltonian fit the dimension of Hilbert space of two spins, which is 4\n",
    "print(H2)\n",
    "print(np.shape(H2))"
   ]
  },
  {
   "cell_type": "markdown",
   "id": "9ceff688-e7a2-4977-ab62-9a4bc83c1c8f",
   "metadata": {},
   "source": [
    "Ground state(s) are our important state(s) come along with the Hamiltonian. It can be written in \n",
    "$|GS> = c_{00}|00> + c_{01}|01> + c_{10}|10> + c_{11}|11>$, and so are other eigenstates. Let's try to find out those coefficients."
   ]
  },
  {
   "cell_type": "code",
   "execution_count": 10,
   "id": "200410f8-850a-4c40-bd7c-978cc7f8e4c7",
   "metadata": {},
   "outputs": [
    {
     "name": "stdout",
     "output_type": "stream",
     "text": [
      "Coefficients of the ground state:\n",
      "c_00 = 0j\n",
      "c_01 = (0.7071067811865477+0j)\n",
      "c_10 = (-0.7071067811865475-0j)\n",
      "c_11 = 0j\n",
      "Ground state energy is -0.7499999999999994\n",
      "Excited state energy is 0.25\n"
     ]
    }
   ],
   "source": [
    "# Find ground state of H\n",
    "from scipy.linalg import eigh\n",
    "\n",
    "# Compute the lowest eigenvalue and corresponding eigenvector of H\n",
    "eigenvalues, eigenvectors = eigh(H2, subset_by_index=(0, 3))\n",
    "ground_state_energy = eigenvalues[0]\n",
    "ground_state = eigenvectors[:, 0]\n",
    "\n",
    "# Extract the coefficients of the ground state\n",
    "c_00 = ground_state[0]\n",
    "c_01 = ground_state[1]\n",
    "c_10 = ground_state[2]\n",
    "c_11 = ground_state[3]\n",
    "\n",
    "print(\"Coefficients of the ground state:\")\n",
    "print(\"c_00 =\", c_00)\n",
    "print(\"c_01 =\", c_01)\n",
    "print(\"c_10 =\", c_10)\n",
    "print(\"c_11 =\", c_11)\n",
    "\n",
    "print(\"Ground state energy is\", ground_state_energy)\n",
    "print(\"Excited state energy is\", eigenvalues[1])\n"
   ]
  },
  {
   "cell_type": "markdown",
   "id": "80708165-3885-4123-a35e-39b2bf1ca5a0",
   "metadata": {},
   "source": [
    "Thus, the cground state of 2-spin Heisenberg model is singlet state"
   ]
  },
  {
   "cell_type": "code",
   "execution_count": 12,
   "id": "9005086e-8640-474b-bb96-b87da5398244",
   "metadata": {},
   "outputs": [
    {
     "name": "stdout",
     "output_type": "stream",
     "text": [
      "Overlap with 1st Bell state is): 0.0\n",
      "Overlap with 2st Bell state is): 0.0\n",
      "Overlap with 3st Bell state is): 2.220446049250313e-16\n",
      "Overlap with 4st Bell state is): 1.0\n"
     ]
    }
   ],
   "source": [
    "# Next, let's compare the ground state to the Bell states\n",
    "# Their overlap could be roughly thought as their similarity\n",
    "\n",
    "\n",
    "overlap1 = abs(np.dot(ground_state, phi_plus))\n",
    "overlap2 = abs(np.dot(ground_state, phi_minus))\n",
    "overlap3 = abs(np.dot(ground_state, psi_plus))\n",
    "overlap4 = abs(np.dot(ground_state, psi_minus))\n",
    "\n",
    "print(f\"Overlap with 1st Bell state is): {overlap1}\")\n",
    "print(f\"Overlap with 2st Bell state is): {overlap2}\")\n",
    "print(f\"Overlap with 3st Bell state is): {overlap3}\")\n",
    "print(f\"Overlap with 4st Bell state is): {overlap4}\")\n",
    "\n"
   ]
  },
  {
   "cell_type": "code",
   "execution_count": 249,
   "id": "0f2dad5d-ee25-42fb-b61b-4796f4d9ef04",
   "metadata": {},
   "outputs": [
    {
     "name": "stdout",
     "output_type": "stream",
     "text": [
      "Overlap with 1st Bell state is): 0.0\n",
      "Overlap with 2st Bell state is): 0.0\n",
      "Overlap with 3st Bell state is): 2.220446049250313e-16\n",
      "Overlap with 4st Bell state is): 1.0\n"
     ]
    }
   ],
   "source": [
    "excited_state = eigenvectors[:, 0]\n",
    "\n",
    "e_overlap1 = abs(np.dot(excited_state, phi_plus))\n",
    "e_overlap2 = abs(np.dot(excited_state, phi_minus))\n",
    "e_overlap3 = abs(np.dot(excited_state, psi_plus))\n",
    "e_overlap4 = abs(np.dot(excited_state, psi_minus))\n",
    "\n",
    "print(f\"Overlap with 1st Bell state is): {e_overlap1}\")\n",
    "print(f\"Overlap with 2st Bell state is): {e_overlap2}\")\n",
    "print(f\"Overlap with 3st Bell state is): {e_overlap3}\")\n",
    "print(f\"Overlap with 4st Bell state is): {e_overlap4}\")\n"
   ]
  },
  {
   "cell_type": "markdown",
   "id": "e6d11db9-644c-4d96-bd31-5aac13dcb033",
   "metadata": {},
   "source": [
    "Next, extend to Heisenberg model of 3 spins, which has two terms, one for each neighboring pair.\n",
    "$H = J(\\vec{S_{1}}\\cdot\\vec{S_{2}}\\cdot I_{3}+I_{1}\\cdot\\vec{S_{2}}\\cdot\\vec{S_{3}}) = \\frac{J}{4}(\\sigma_{1,x}\\sigma_{2,x}I_{3}+\\sigma_{1,y}\\sigma_{2,y}I_{3}+\\sigma_{1,z}\\sigma_{2,z}I_{3}+I_{1}\\sigma_{2,x}\\sigma_{3,x}+I_{1}\\sigma_{2,y}\\sigma_{3,y}+I_{1}\\sigma_{2,z}\\sigma_{3,z}) $\n"
   ]
  },
  {
   "cell_type": "code",
   "execution_count": 13,
   "id": "21038747-a313-4969-9c10-de4aa6ac0f94",
   "metadata": {},
   "outputs": [
    {
     "name": "stdout",
     "output_type": "stream",
     "text": [
      "[[ 0.5+0.j  0. +0.j  0. +0.j  0. +0.j  0. +0.j  0. +0.j  0. +0.j  0. +0.j]\n",
      " [ 0. +0.j  0. +0.j  0.5+0.j  0. +0.j  0. +0.j  0. +0.j  0. +0.j  0. +0.j]\n",
      " [ 0. +0.j  0.5+0.j -0.5+0.j  0. +0.j  0.5+0.j  0. +0.j  0. +0.j  0. +0.j]\n",
      " [ 0. +0.j  0. +0.j  0. +0.j  0. +0.j  0. +0.j  0.5+0.j  0. +0.j  0. +0.j]\n",
      " [ 0. +0.j  0. +0.j  0.5+0.j  0. +0.j  0. +0.j  0. +0.j  0. +0.j  0. +0.j]\n",
      " [ 0. +0.j  0. +0.j  0. +0.j  0.5+0.j  0. +0.j -0.5+0.j  0.5+0.j  0. +0.j]\n",
      " [ 0. +0.j  0. +0.j  0. +0.j  0. +0.j  0. +0.j  0.5+0.j  0. +0.j  0. +0.j]\n",
      " [ 0. +0.j  0. +0.j  0. +0.j  0. +0.j  0. +0.j  0. +0.j  0. +0.j  0.5+0.j]]\n",
      "(8, 8)\n"
     ]
    }
   ],
   "source": [
    "# Define Pauli matrices for the third spin and identity matrix\n",
    "sigma_3_x = np.array([[0, 1], [1, 0]])\n",
    "sigma_3_y = np.array([[0, -1j], [1j, 0]])\n",
    "sigma_3_z = np.array([[1, 0], [0, -1]])\n",
    "id = np.array([[1, 0],[0, 1]])\n",
    "\n",
    "# Establish terms in Heisenberg model\n",
    "term3 = np.kron(np.kron(sigma_1_x, sigma_2_x), id) + np.kron(np.kron(sigma_1_y, sigma_2_y), id) + np.kron(np.kron(sigma_1_z, sigma_2_z), id)\n",
    "term3 += np.kron(id, np.kron(sigma_2_x, sigma_3_x)) + np.kron(id, np.kron(sigma_2_y, sigma_3_y)) + np.kron(id, np.kron(sigma_2_z, sigma_3_z))\n",
    "\n",
    "# Collect the term for Hamiltonian\n",
    "H3 = J/4.0 * term3\n",
    "\n",
    "# Check if the shape of Hamiltonian fit the dimension of Hilbert space of two spins, which is 4\n",
    "print(H3)\n",
    "print(np.shape(H3))"
   ]
  },
  {
   "cell_type": "markdown",
   "id": "f8b2509b-7de8-4e5f-971d-f240c97fd8ed",
   "metadata": {},
   "source": [
    "Ground state(s) can be written in \n",
    "$|GS> = c_{000}|000> + c_{001}|001> + c_{010}|010> + c_{100}|100> + c_{011}|011> + c_{101}|101> + c_{110}|110> + c_{111}|111>$, and so are other eigenstates. Let's try to find out those coefficients."
   ]
  },
  {
   "cell_type": "code",
   "execution_count": 23,
   "id": "f2640b58-4a76-49af-b200-6f2e9ab6288a",
   "metadata": {},
   "outputs": [
    {
     "name": "stdout",
     "output_type": "stream",
     "text": [
      "Coefficients of the ground state 1:\n",
      "c_000 = 0j\n",
      "c_001 = (-0.4082482904638635-0j)\n",
      "c_010 = (0.8164965809277261+0j)\n",
      "c_100 = 0j\n",
      "c_011 = (-0.4082482904638624+0j)\n",
      "c_101 = 0j\n",
      "c_110 = 0j\n",
      "c_111 = 0j\n",
      "Ground state energy is  -0.9999999999999991\n",
      "Coefficients of the ground state 2:\n",
      "d_000 = 0j\n",
      "d_001 = 0j\n",
      "d_010 = 0j\n",
      "d_100 = (-0.4082482904638635+0j)\n",
      "d_011 = 0j\n",
      "d_101 = (0.8164965809277261+0j)\n",
      "d_110 = (-0.4082482904638624-0j)\n",
      "d_111 = 0j\n",
      "Ground state energy is  -0.9999999999999991\n"
     ]
    }
   ],
   "source": [
    "# Compute the lowest eigenvalue and corresponding eigenvector of H\n",
    "eigenvalues, eigenvectors = eigh(H3, subset_by_index=(0, 7))\n",
    "ground_state_energy = eigenvalues[0]\n",
    "ground_state_1 = eigenvectors[:, 0]\n",
    "ground_state_2 = eigenvectors[:, 1]\n",
    "# Extract the coefficients of the ground state(s)\n",
    "c_000 = ground_state_1[0]\n",
    "c_001 = ground_state_1[1]\n",
    "c_010 = ground_state_1[2]\n",
    "c_100 = ground_state_1[3]\n",
    "c_011 = ground_state_1[4]\n",
    "c_101 = ground_state_1[5]\n",
    "c_110 = ground_state_1[6]\n",
    "c_111 = ground_state_1[7]\n",
    "d_000 = ground_state_2[0]\n",
    "d_001 = ground_state_2[1]\n",
    "d_010 = ground_state_2[2]\n",
    "d_100 = ground_state_2[3]\n",
    "d_011 = ground_state_2[4]\n",
    "d_101 = ground_state_2[5]\n",
    "d_110 = ground_state_2[6]\n",
    "d_111 = ground_state_2[7]\n",
    "\n",
    "print(\"Coefficients of the ground state 1:\")\n",
    "print(\"c_000 =\", c_000)\n",
    "print(\"c_001 =\", c_001)\n",
    "print(\"c_010 =\", c_010)\n",
    "print(\"c_100 =\", c_100)\n",
    "print(\"c_011 =\", c_011)\n",
    "print(\"c_101 =\", c_101)\n",
    "print(\"c_110 =\", c_110)\n",
    "print(\"c_111 =\", c_111)\n",
    "print(\"Ground state energy is \", ground_state_energy)\n",
    "\n",
    "print(\"Coefficients of the ground state 2:\")\n",
    "print(\"d_000 =\", d_000)\n",
    "print(\"d_001 =\", d_001)\n",
    "print(\"d_010 =\", d_010)\n",
    "print(\"d_100 =\", d_100)\n",
    "print(\"d_011 =\", d_011)\n",
    "print(\"d_101 =\", d_101)\n",
    "print(\"d_110 =\", d_110)\n",
    "print(\"d_111 =\", d_111)\n",
    "print(\"Ground state energy is \", eigenvalues[1])\n"
   ]
  },
  {
   "cell_type": "markdown",
   "id": "ddcc5241-417f-4cd3-854a-41c708638ceb",
   "metadata": {},
   "source": [
    "There is two fold degeneracy of the ground states, it comes from the frustration caused by the non-commutativity of Pauli operators of neighboring sites."
   ]
  },
  {
   "cell_type": "markdown",
   "id": "c8663e2a-2255-4821-a3ed-55102d406e48",
   "metadata": {},
   "source": [
    "# Extend to larger N spin chain, N=5, N=8"
   ]
  },
  {
   "cell_type": "markdown",
   "id": "574244c0-60c6-480c-8cbd-9cade2be6882",
   "metadata": {},
   "source": [
    "Try: Evaluate entanglement entropy $S[\\rho]$ for each N, and \"entanglement spectrum\" by observing the behavior the Schmidt coefficients for various N."
   ]
  },
  {
   "cell_type": "code",
   "execution_count": null,
   "id": "5d5fe943-5f0d-4311-9db3-3daa043ded03",
   "metadata": {},
   "outputs": [],
   "source": []
  },
  {
   "cell_type": "code",
   "execution_count": null,
   "id": "16d716a8-d0f4-4700-88a6-f8ebb9c73fe2",
   "metadata": {},
   "outputs": [],
   "source": []
  }
 ],
 "metadata": {
  "kernelspec": {
   "display_name": "Python 3 (ipykernel)",
   "language": "python",
   "name": "python3"
  },
  "language_info": {
   "codemirror_mode": {
    "name": "ipython",
    "version": 3
   },
   "file_extension": ".py",
   "mimetype": "text/x-python",
   "name": "python",
   "nbconvert_exporter": "python",
   "pygments_lexer": "ipython3",
   "version": "3.11.5"
  }
 },
 "nbformat": 4,
 "nbformat_minor": 5
}
