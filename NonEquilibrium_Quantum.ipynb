{
 "cells": [
  {
   "cell_type": "markdown",
   "id": "a04e4693-0967-46cf-add1-faf4b41d07e7",
   "metadata": {},
   "source": [
    "# Time average view of thermalization\n",
    "StatMech textbook start from the assumption of thermal equilibrium, which can be described by the expression \n",
    "$ \\frac{1}{T}\\int^{T}_{0}A(q,p)dt = <A>_{microcanonical} $. T approach infinity corresponds to the ergodicity hypothesis."
   ]
  },
  {
   "cell_type": "markdown",
   "id": "1ef01944-ae4b-4309-8d0f-a6433ae54b4a",
   "metadata": {},
   "source": [
    "This essentially means that you don't need to calculate the dynamics of the system to obtain the average behavier of the whole system. Just doing ensemble average of that observables will give you the answer when the system reach a status called thermal equilibrium. And thermodynamics is the subject to study those quantities and their relations."
   ]
  },
  {
   "cell_type": "markdown",
   "id": "fe142055-1f4a-49fa-bbb4-bec154532f59",
   "metadata": {},
   "source": [
    "So dynamics is absent in the study of thermodynamics. Dynamics comes back to play when we ask the question \"how a system reaches equilibrium from out-of-equilibrium\" "
   ]
  },
  {
   "cell_type": "markdown",
   "id": "a3554fed-fe40-4842-bba4-80e8eb67e60f",
   "metadata": {},
   "source": [
    "With equilibrium as an assumption, then comes a collorary by particle number N being large. This leads to $ <A>_{microcanonial} = <A>_{canonical}$"
   ]
  },
  {
   "cell_type": "markdown",
   "id": "ae80284f-699b-48dc-9e3a-7b82045949ab",
   "metadata": {},
   "source": [
    "to be explicit $\\frac{\\int A(q,p)\\delta(E-E_{o})dqdp}{\\int \\delta(E-E_{o})dqdp} = \\frac{\\int A(q,p)e^{-\\beta H}dqdp}{\\int e^{-\\beta H} dqdp}$"
   ]
  },
  {
   "cell_type": "markdown",
   "id": "61f3e2ae-df0c-49a9-af74-26d6c7ac77ee",
   "metadata": {},
   "source": [
    "Here we denote this value $<A>_{th}$"
   ]
  },
  {
   "cell_type": "markdown",
   "id": "526228e9-8b72-4563-8eba-8ce1109b47e9",
   "metadata": {},
   "source": [
    "Extensive conserved quantities are signature of thermal equilibrium. Traditionally, if that conserved quantity is energy, then temperature, mathematically the Lagrage multiplier with constraint by the conserved quantity, defines the equilibrium."
   ]
  },
  {
   "cell_type": "markdown",
   "id": "4a1ab36f-c104-4031-b38b-253a6e06896a",
   "metadata": {},
   "source": [
    "An extreme example is integrable system, which is not generic but fine-tuned system, pose infinitely many conserved quantities. And it arises generalized Gibbs ensemble, in constrast to Gibbs ensemble where very limited conserved quantities are considered."
   ]
  },
  {
   "cell_type": "markdown",
   "id": "b268858e-b76d-460d-a75f-f522c43c6edb",
   "metadata": {},
   "source": [
    "# Dynamics view of thermalization"
   ]
  },
  {
   "cell_type": "markdown",
   "id": "0c8d821b-7134-4edf-8d6a-d0a5d1a6454b",
   "metadata": {},
   "source": [
    "Instead of asking ergodicity, we ask how a closed system, via quantum dynamics, reach a steady state for which measurement outcomes fit the predictions of equilibrium statistical mechanics. If for such system with majority of initial states the answer is yes, then the system is said to be thermalized."
   ]
  },
  {
   "cell_type": "markdown",
   "id": "46c78a3c-3628-4e93-bbcb-e755d81e5eb2",
   "metadata": {},
   "source": [
    "For classical system, that is ,instead of the ergodicity formula above, the modern argument about thermal equilibrium by questing  "
   ]
  },
  {
   "cell_type": "markdown",
   "id": "b0726787-b452-4c85-888d-4d9bf0a4541f",
   "metadata": {},
   "source": [
    "$ \\lim_{t=>\\infty} A(q,p) = <A>_{microcanonical} $ or equivalently, in term of states, $\\lim_{t=>\\infty} \\rho_{0}(t) = \\rho_{microcanonical}$."
   ]
  },
  {
   "cell_type": "markdown",
   "id": "3f00604f-0bf2-41c9-99b9-3a6d690c066b",
   "metadata": {},
   "source": [
    "This is a stronger condition than ergodicity hypothesis."
   ]
  },
  {
   "cell_type": "markdown",
   "id": "4e23af50-44f6-475c-ac9f-66a224a8322c",
   "metadata": {},
   "source": [
    "Approach 1 (Gibbs) Like fluid dynamics in phase space, time evolve an volume in phase space. It spread to equally fill the whole microcanonical ensemble. That is, $\\rho_{0} => \\rho_{microcanonical}$. However, just by Liouville theorem, which governs the dynamics of phase space, this could not happen. Two ingredients need to be introduced to phase space which are croase graining and mixing(or chaos)."
   ]
  },
  {
   "cell_type": "markdown",
   "id": "d044952b-c115-451d-b751-757f6a653fbc",
   "metadata": {},
   "source": [
    "Approach 2(Boltzmannian) Instead of being a tiny volume in phase space, initial state is a single state(a point in phase space). Propose the idea of typicality that the state will evolve into the largest \"cell\" volume in phase space, where cell is defined by the states which produce roughly the same $<A>$."
   ]
  },
  {
   "cell_type": "markdown",
   "id": "37846783-5e42-4281-b463-bd01d2200dd5",
   "metadata": {},
   "source": [
    "# Quantum Systems and Eigenstate Ehermalization Hypothesis(ETH)"
   ]
  },
  {
   "cell_type": "markdown",
   "id": "870e7550-706d-4490-b175-030e0e61d2c6",
   "metadata": {},
   "source": [
    "System is quantum, closed and finite size, described by Hamiltonian H. $H|a>= E_{a}|a>$. Time evolve a generic state, we get $|\\Phi (t)> = \\sum c_{a}e^{-iE_{a}t}|a>$. For observable A, the expectation value is "
   ]
  },
  {
   "cell_type": "markdown",
   "id": "9f135fe4-ce97-4a95-8296-1f7e2cbb2be0",
   "metadata": {},
   "source": [
    "$<A>_{t} = \\sum_{a}|c_{a}|^{2}A_{aa} + \\sum_{a\\neq b} \\bar{c_{a}}c_{b}e^{i(E_{a}-E_{b})t}A_{ab}$"
   ]
  },
  {
   "cell_type": "markdown",
   "id": "a54179a3-ce1f-474c-9013-5c9bb588bd5e",
   "metadata": {},
   "source": [
    "In quite a lot systems, the second term (fluctuation term) will be vanished in long enough time, and ETH concludes that  "
   ]
  },
  {
   "cell_type": "markdown",
   "id": "91be6179-3970-43d6-b78e-ad4ba156beae",
   "metadata": {},
   "source": [
    "$<A>_{th} = \\sum_{a}|c_{a}|^{2}A_{aa}$"
   ]
  },
  {
   "cell_type": "markdown",
   "id": "abe4c3e7-e8cb-4c69-a228-b6a4e3ec2469",
   "metadata": {},
   "source": [
    "On left hand side, the parameter we only know is temperature thus total energy of the system. On right hand side, lots of informations are needed to compute the value, say, given an inital quantum state we need to know its components on some basis. However, in many generic systems, the spread of the components are very limited, and within that limitied range $A_{aa}$ is quite smooth and doesn't varied a lot. That is, $A_{aa}$ behaves like a constant value and only depends on a specific E, which is roughtly the E lies in  the narrow range."
   ]
  },
  {
   "cell_type": "markdown",
   "id": "51d6ba55-231e-4783-b9e7-81d3f2416ada",
   "metadata": {},
   "source": [
    "It's rich to study whether the fluctuation term vanish and how fast for specific system, and how good is $A_{aa}$'s behavior, so that ETH is violeted."
   ]
  },
  {
   "cell_type": "markdown",
   "id": "a328ed24-ec9c-4476-bdac-62c698fe259d",
   "metadata": {},
   "source": [
    "# What signatures non-equilibrium dynamics "
   ]
  },
  {
   "cell_type": "code",
   "execution_count": null,
   "id": "105d0da8-1a87-4318-90da-dd64a9022920",
   "metadata": {},
   "outputs": [],
   "source": []
  },
  {
   "cell_type": "markdown",
   "id": "c9bd41b8-df16-4370-b1d9-c814de05c6df",
   "metadata": {},
   "source": [
    "U(1) charge conservation + dipole conservation seems to be minimum requirements for a system to evade equilibrium. As a system with energy conservation would equilibriate to the symmetry sector of energy(microcanonical ensemble), wouldn't the system with charge and dipole conservation equilibriate to the corresponding symmetry sector of U(1)? It's shown by a quantum circuit model that charge is localizazed, not spreading. Such unconventional localization happens without energy conservation and disorder, where Anderson localization does, was explained in 2020. It was explained by the existence of exponentially large number of eigenstates of the charge+dipole symmetry Hamiltonian, in which the charge and dipole are localized. In  operator language, time evolve unitary matrix is block diagonalized into symmetry sectors(blocks), and for non-ergodic system each block will further block-diagonalized into exponentially many small size blocks. This is called Hilbert Space Fragmentation. Different tiny blocks don't talk to each other even if they are in the same symmetry sector."
   ]
  },
  {
   "cell_type": "markdown",
   "id": "bd49ba39-a755-4400-adfe-cae737e59498",
   "metadata": {},
   "source": [
    "# Operator Spreading"
   ]
  },
  {
   "cell_type": "markdown",
   "id": "9432006f-5dc6-47e1-bae7-d843b92f95b9",
   "metadata": {},
   "source": [
    "It's useful to examine thermalization from quantum operators point of view. It's essential to realize that almost all hermition operators in quantum many body systems are not observables. In a lab, the majority of observations we can make are two-point correlation(In amo lab, it might be 10-point correlation function, but still finite). As we can only observably determine thermaliztion, an initial out-of-equilibrium state loses its information into non-observable operators as time evolve, or in other words its information is hidden in those non-observable operators, and finally reaches a thermal state. In standard quantum mechanics books as how it is taught, systems are small, like an electron in a wall or atom, hermitian operators are all observables, thus no such idea as thermal equilibrium in such small system. "
   ]
  },
  {
   "cell_type": "markdown",
   "id": "73734bd8-4b33-4f36-89da-a5bb719c2266",
   "metadata": {},
   "source": [
    "So, is it fair to say that, thermal equilibrium is somehow due to our ignorance. Observables are via interactions and interactions are locality, and as the system is large and time evolving, information of initial state is spread into more global operators and this hidden from our detection. All we can do(and ask) is via locally detecting the system and see if the outcome match the ensemble average or not. "
   ]
  },
  {
   "cell_type": "markdown",
   "id": "89931ba8-dbbb-4d97-ae6e-45266ab02f95",
   "metadata": {},
   "source": [
    "Numerical simulation can give us the time evolving state to compare it with the thermal state."
   ]
  },
  {
   "cell_type": "markdown",
   "id": "a6793a96-38a1-4eef-a993-7bba23d76037",
   "metadata": {},
   "source": [
    "Example: N spin system , $2^{N}$ basis state, roughly $4^{N}$ Hermition operators(4 Pauli operators for each spin)"
   ]
  },
  {
   "cell_type": "markdown",
   "id": "4f42e400-263a-4c0e-a7ee-ef5469f3f8d9",
   "metadata": {},
   "source": [
    "A typical hermition operator for this system would be like $X_{i}\\otimes ... \\otimes Z_{j} \\otimes ... \\otimes Y_{k} $ , where i, j, k are very large number and could not be an observable."
   ]
  },
  {
   "cell_type": "markdown",
   "id": "788ed6fd-1a96-4125-9d96-128d2a3f7a91",
   "metadata": {},
   "source": [
    "Prepare initial state $\\rho_{S}(0)$ of the system S, to be an observed out-of-equilibrium state"
   ]
  },
  {
   "cell_type": "markdown",
   "id": "f9e422c1-5578-4f8e-919e-20e77497022d",
   "metadata": {},
   "source": [
    "Time evolve it $\\rho_{S}(t) = U(t)\\rho_{S}(0)U^{\\dagger}(t)$"
   ]
  },
  {
   "cell_type": "markdown",
   "id": "962b0cb6-8310-480b-93db-00b40d5d6801",
   "metadata": {},
   "source": [
    "Entanglement plays a crucial role to equilibriate S, or hide the information into operators sea, making every subsystem A of S more and more of a mixed state, i.e. entanglement of $\\rho_{A} = Tr_{B}(\\rho_{S})$ is getting large. It is equivalent to say, for every A of the system S, B is the bath for A. This could be considered as the definition of thermalization."
   ]
  },
  {
   "cell_type": "markdown",
   "id": "b6143f2d-5caf-4f6f-a7eb-4e0358ce787a",
   "metadata": {},
   "source": [
    "# Discrete time evolution of quantum many body dynamics"
   ]
  },
  {
   "cell_type": "markdown",
   "id": "3bae664d-0f98-4a87-b7a9-bc9d78b8d814",
   "metadata": {},
   "source": [
    "Digital simulation of quantum many body dynamics can be naturally implemented by NISQ quantum devices."
   ]
  },
  {
   "cell_type": "markdown",
   "id": "4aeb2033-03d5-41d2-a00b-a074d91b1164",
   "metadata": {},
   "source": [
    "Dynamics is given by Hamiltonian, for our example above say, we have H with local interaction $ H = \\sum h_{i,i+1} $, where i denotes lattice site. If turn off half of the nearest neighbor interactions, say the even bonds. We get odd bonds interacting Hamiltonian\n",
    "$H_{odd} = \\sum_{j} h_{2j-1, 2j}$ , such that the unitary operator $U(t) = e^{-iH_{odd}t}$ can be decomposed by $U(t) = u_{1}\\otimes u_{2}\\otimes ....\\otimes u_{2N-1}$ where $ u_{j} = e^{-ih_{2j-1, 2j}t} $."
   ]
  },
  {
   "cell_type": "markdown",
   "id": "97054861-8487-4e4e-937f-beaa685ad747",
   "metadata": {},
   "source": [
    "Later, say after time t, switch to turning on only even bonds, so we have $H_{even}$ "
   ]
  },
  {
   "cell_type": "markdown",
   "id": "626c6322-24b2-4831-ba31-211b74cb29e9",
   "metadata": {},
   "source": [
    "Combine Hodd and Heven, we can simulate dynamics in a controllable fashion by stacking numerous two qubit operations(two qubit gates). Such stacking stems from the decomposition of H into odd and even, and according to the way we stack those $u_{j}$'s, the geometry of the stacking in the language of circuit or tensor network graphic representation can be various. A typical one is Brickwork Circuit."
   ]
  },
  {
   "cell_type": "markdown",
   "id": "4885340a-057c-4493-a1e6-42dd89a16655",
   "metadata": {},
   "source": [
    "# Randomness preserves genericity"
   ]
  },
  {
   "cell_type": "markdown",
   "id": "ea01b60f-ec69-490b-ab3e-6a6fa6b0c718",
   "metadata": {},
   "source": [
    "So far, the $u_{j}$'s seems to be given by what system we choose to study. But that might limit or ruin the task of studying a more broad and generic situation like thermalization. So we could relax the givenness of u and allow the randomness of u, in other words, imagine we have an ensemble of u's from which we could choose randomly to put into our circuit when we are stacking. This method is called Random Quantum Circuit."
   ]
  },
  {
   "cell_type": "markdown",
   "id": "8be112b4-e197-4b15-86b6-7378d5558c5e",
   "metadata": {},
   "source": [
    "Random Quantum Circuit, as an emergent tool to quantitatively study quantum thermalization, is natural to start from structureless(or minimally structured) circuit and then add in if we need to exame more specific situations where some (physical) conserved quantities exist.\n",
    "The philosophy of this try is reminiscent of random matrix theory and SYK model, which add in randomness and make the problem theoretically tractable which can be seen as ancestors of this paradigm."
   ]
  },
  {
   "cell_type": "markdown",
   "id": "fe486a63-8525-427a-aafa-079841612070",
   "metadata": {},
   "source": [
    "Of course, the space we need to randomly pick u's from should be a sea of unitary operators(or $ 2^n $x $2^n$ unitary matrices), in math it is unitary group U(d).\n",
    "To meet this structureless purpose, two commenly used ensemble over this U(d) are (1) Haar measure and (2) Clifford"
   ]
  },
  {
   "cell_type": "markdown",
   "id": "1038760f-0f49-4f9a-9d9e-fb477ad6a11c",
   "metadata": {},
   "source": [
    "Haar is essentially the uniform distribution over U(d), it can be proved to be unique measure under the following property E[f(u)] = E[f(vuw)] for u,v,w independently chosen from the ensemble."
   ]
  },
  {
   "cell_type": "markdown",
   "id": "b8022228-87bc-4aa9-9875-7b979e39e7b6",
   "metadata": {},
   "source": [
    "# Many body Localization"
   ]
  },
  {
   "cell_type": "markdown",
   "id": "5aad75e7-3ff0-408f-b032-201e78ccbae9",
   "metadata": {},
   "source": [
    "Models for studying MBL are spin-1/2 systems $ H = \\sum_{i} h_{i}S_{i,z} + J\\sum_{i} \\vec{S}_{i}\\cdot \\vec{S}_{i+1}$ in 1D, 2D, long-range interactions, $h_{i}$ being random or quasiperiodic, non-conserved total spin, Floquet driven, etc...\n"
   ]
  },
  {
   "cell_type": "markdown",
   "id": "099cd4ad-4d0b-419f-b5e2-a583e462deee",
   "metadata": {},
   "source": [
    "# Non-Thermal and Thermal state via Quantum states engineering?"
   ]
  },
  {
   "cell_type": "markdown",
   "id": "76ecb1d8-962d-4cf3-a62c-2040acf62a25",
   "metadata": {},
   "source": [
    "Q: Extracting information are always more convenient via operators or via quantum states for different scenario, which are more for operators and which are for states?"
   ]
  },
  {
   "cell_type": "markdown",
   "id": "68ac35e7-f1db-4c1d-8121-ed23a09d81f2",
   "metadata": {},
   "source": [
    "Quantum states engineering is applicable via quantum simulation. There are many variants of quantum state engineering via driven sources outside, internal parameters tuning via laser, etc. Recently, measurement has been an emergent tool to accomplish this task in a different manner in quantum circuits. Measurement can collapse quantum states a whole or a portion. "
   ]
  },
  {
   "cell_type": "markdown",
   "id": "d3efb10d-ac99-4b4f-89d2-b118b09b3857",
   "metadata": {},
   "source": [
    "# Extract learning in physical process. Could thermalization be seen as a learning process?"
   ]
  },
  {
   "cell_type": "markdown",
   "id": "d7ea265a-9aa8-4300-98d7-231cf8814c38",
   "metadata": {},
   "source": [
    "Classify different physical systems by their dynamics in terms of the ability to thermalize is my interest. I am wondering is it possible to view thermalization as a learning process. What is this learning mechanism and what parameters are being tuned to approach the thermal state. If there is learning process underpined the thermalization, what makes the absence of such learning process in the systems like MBL and quantum scars."
   ]
  },
  {
   "cell_type": "markdown",
   "id": "28ec2e12-e8ac-4e28-838b-a826ca2975a1",
   "metadata": {},
   "source": [
    "Physical learning machine is the paradigm of designing or seeking for physical processes to directly realize learning algorithm. Is there a route to design a dynamics that is marked as certain class of thermalization and also manifests learning mechanism?"
   ]
  },
  {
   "cell_type": "markdown",
   "id": "1a8d40bc-7e05-4ad2-8366-12126ea1cae3",
   "metadata": {},
   "source": [
    "# Extract physics in learning process. Machine learning as classical non-equilibrium dynamics, quantum?"
   ]
  },
  {
   "cell_type": "markdown",
   "id": "823dd7df-afc8-40e7-926b-c962424e019b",
   "metadata": {},
   "source": [
    "There has been connections made between classical non-equilibrium dynamics and machine learning, how is quantum non-equilibrium dynamics could inspire machine learning. Entanglement should essentially be the centrel role, however, could entanglement be directly connected to machinie learning is still an intractable problem. Learning as a physical process still seems to be in the regime of classical physics. "
   ]
  },
  {
   "cell_type": "markdown",
   "id": "e81ccfa0-da4e-4a31-b718-3e9a5e478d4f",
   "metadata": {},
   "source": [
    "# Machine learning quantum physics"
   ]
  },
  {
   "cell_type": "markdown",
   "id": "5b31dcfb-2809-4093-9d79-9949afcdfd2e",
   "metadata": {},
   "source": [
    "Besides treating machine learning as a physical system and dynamics, a more practical side is to treat machine learning as a computational method to solve problems, just like other classical simulation, albeit in a form of data driven perspectives(sometimes refer to reverse problems)."
   ]
  },
  {
   "cell_type": "markdown",
   "id": "a26d4abc-9bb6-41c5-b086-03a9d1297134",
   "metadata": {},
   "source": [
    "In addition to the early works of applying machine learning to study properties of quantum systems, introducing quantum to learning algorithm gave rise to quantum machine learning, a set of methods that are still classical machine learning, albeit interact with quantum circuit model."
   ]
  },
  {
   "cell_type": "markdown",
   "id": "b28a138d-48ec-469d-8ffb-ae65cb3ea31e",
   "metadata": {},
   "source": [
    "The most common one is under the realm of hybrid quantum classical models. (1) Quantum circuits is parametrized and let classical processors control the parameters to perform the tasks of Variational quantum eigensolver(VQE) and Quantum Approximate Optimization Algorithm (QAOA). (2) Design a structured quantum circuit. So that quantum circuit is a quantum model and quantum data generator just like other quantum simulators."
   ]
  },
  {
   "cell_type": "markdown",
   "id": "ba9e6118-97b4-4836-990c-7fd304ee0c70",
   "metadata": {},
   "source": [
    "# Reference"
   ]
  },
  {
   "cell_type": "markdown",
   "id": "d57a73fb-5200-47f3-a1a8-91517a5ee21e",
   "metadata": {},
   "source": [
    "Luca D’Alessio, et. al., \"From Quantum Chaos and Eigenstate Thermalization to Statistical Mechanics and Thermodynamics\", Advances in Physics\n",
    "Vol. 65, No. 3, 239-362 (2016)"
   ]
  },
  {
   "cell_type": "markdown",
   "id": "099f6c9b-3acb-4241-b57d-3678864ce843",
   "metadata": {},
   "source": [
    "A. M. Kaufman, et. al., \"Quantum thermalization through entanglement in an isolated many-body system\n",
    "\", Science 353, 794 (2016)"
   ]
  },
  {
   "cell_type": "markdown",
   "id": "11f48503-4e8a-4efb-8270-03421f8b8ce3",
   "metadata": {},
   "source": [
    "Julius Lehmann, et. al., \"Fragmentation-induced localization and boundary charges in dimensions two and above\", SciPost Phys. 14, 140 (2023)"
   ]
  },
  {
   "cell_type": "markdown",
   "id": "92bdc3e2-a150-4833-ad9e-4e0b9256c3a0",
   "metadata": {},
   "source": [
    "Anna Dawid, et. al., \"Modern applications of machine learning in quantum sciences\", \tarXiv:2204.04198"
   ]
  },
  {
   "cell_type": "markdown",
   "id": "d6407494-1804-4aaa-a505-9bc68ddf5c20",
   "metadata": {},
   "source": [
    "Victor Lopez-Pastor, et. al.,\"Self-learning machines based on Hamiltonian echo backpropagation\", PHYSICAL REVIEW X 13, 031020 (2023)"
   ]
  },
  {
   "cell_type": "markdown",
   "id": "e76ad6a5-1adc-4614-b080-03688b4e8e61",
   "metadata": {},
   "source": [
    "Zoë Holmes et. al., \"Nonlinear transformations in quantum computation\", PHYSICAL REVIEW RESEARCH 5, 013105 (2023)"
   ]
  },
  {
   "cell_type": "code",
   "execution_count": null,
   "id": "306391d0-28d2-40ee-8637-585dbae633a9",
   "metadata": {},
   "outputs": [],
   "source": []
  }
 ],
 "metadata": {
  "kernelspec": {
   "display_name": "Python 3 (ipykernel)",
   "language": "python",
   "name": "python3"
  },
  "language_info": {
   "codemirror_mode": {
    "name": "ipython",
    "version": 3
   },
   "file_extension": ".py",
   "mimetype": "text/x-python",
   "name": "python",
   "nbconvert_exporter": "python",
   "pygments_lexer": "ipython3",
   "version": "3.11.5"
  }
 },
 "nbformat": 4,
 "nbformat_minor": 5
}
