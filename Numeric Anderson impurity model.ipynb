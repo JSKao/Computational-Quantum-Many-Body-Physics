{
 "cells": [
  {
   "cell_type": "markdown",
   "id": "02bb20ef-dd5c-432b-b4b6-f1aa8ddb30d3",
   "metadata": {},
   "source": [
    "In this code:\n",
    "1. Define the parameters of the Anderson Impurity Model, such as the on-site interaction U, coupling strength Gamma, number of NRG iterations N, and energy cutoff energy_cutoff.\n",
    "2. Create a basis of states, where each state is characterized by the number of electrons n and their spin sz.\n",
    "3. Initialize the Hamiltonian matrix H with zeros.\n",
    "4. Populate the Hamiltonian matrix with diagonal and off-diagonal terms, representing the Anderson Impurity Hamiltonian.\n",
    "5. Use np.linalg.eigh to diagonalize the Hamiltonian and obtain the eigenvalues and eigenvectors.\n",
    "6. Calculate a physical observable, the impurity susceptibility, using the low-energy eigenvalues."
   ]
  },
  {
   "cell_type": "code",
   "execution_count": 1,
   "id": "02ddc472-d3da-44da-938f-c04265302015",
   "metadata": {},
   "outputs": [],
   "source": [
    "import numpy as np"
   ]
  },
  {
   "cell_type": "code",
   "execution_count": 2,
   "id": "8c312c10-718e-47f0-8c1a-ed1c586cdadf",
   "metadata": {},
   "outputs": [],
   "source": [
    "# Define the parameters of the Anderson Impurity Model\n",
    "U = 2.0    # On-site interaction energy\n",
    "Gamma = 0.2  # Coupling strength between the impurity and bath\n",
    "N = 50     # Number of NRG iterations\n",
    "energy_cutoff = 1.0  # Energy cutoff for truncating the Hamiltonian"
   ]
  },
  {
   "cell_type": "code",
   "execution_count": 3,
   "id": "ff473ea8-db81-49d7-a20a-26e6e1139571",
   "metadata": {},
   "outputs": [],
   "source": [
    "# Create the basis states\n",
    "basis_states = []\n",
    "for i in range(N + 1):\n",
    "    basis_states.append((i, 1))\n",
    "    if i > 0:\n",
    "        basis_states.append((i, -1))"
   ]
  },
  {
   "cell_type": "code",
   "execution_count": 4,
   "id": "5b7d417f-7291-423b-ae33-7328997e8f63",
   "metadata": {},
   "outputs": [
    {
     "name": "stdout",
     "output_type": "stream",
     "text": [
      "Low-Energy Spectrum:\n",
      "[-3.92235887e-02  8.69091593e-01  1.14984978e+00  1.89399797e+00\n",
      "  2.12361651e+00  6.90035302e+00  7.10031407e+00  1.19111238e+01\n",
      "  1.20899879e+01  2.09184278e+01  2.10817204e+01  2.99245598e+01\n",
      "  3.00757414e+01  4.29293178e+01  4.30707371e+01  5.59333956e+01\n",
      "  5.60667275e+01  7.29367680e+01  7.30632582e+01  8.99397291e+01\n",
      "  9.00603330e+01  1.10942272e+02  1.11057742e+02  1.31944548e+02\n",
      "  1.32055488e+02  1.56946552e+02  1.57053457e+02  1.81948371e+02\n",
      "  1.82051651e+02  2.10950003e+02  2.11050003e+02  2.39951500e+02\n",
      "  2.40048515e+02  2.72952862e+02  2.73047142e+02  3.05954122e+02\n",
      "  3.06045888e+02  3.42955280e+02  3.43044723e+02  3.79956360e+02\n",
      "  3.80043647e+02  4.20957361e+02  4.21042641e+02  4.61958300e+02\n",
      "  4.62041706e+02  5.06959176e+02  5.07040826e+02  5.51960002e+02\n",
      "  5.52040002e+02  6.00960777e+02  6.01039224e+02  6.49961512e+02\n",
      "  6.50038492e+02  7.02962204e+02  7.03037797e+02  7.55962862e+02\n",
      "  7.56037140e+02  8.12963486e+02  8.13036515e+02  8.69964080e+02\n",
      "  8.70035922e+02  9.30964645e+02  9.31035356e+02  9.91965185e+02\n",
      "  9.92034816e+02  1.05696570e+03  1.05703430e+03  1.12196619e+03\n",
      "  1.12203381e+03  1.19096667e+03  1.19103333e+03  1.25996712e+03\n",
      "  1.26003288e+03  1.33296756e+03  1.33303244e+03  1.40596797e+03\n",
      "  1.40603203e+03  1.48296838e+03  1.48303162e+03  1.55996877e+03\n",
      "  1.56003124e+03  1.64096914e+03  1.64103086e+03  1.72196950e+03\n",
      "  1.72203050e+03  1.80696985e+03  1.80703015e+03  1.89197019e+03\n",
      "  1.89202981e+03  1.98097051e+03  1.98102949e+03  2.06997083e+03\n",
      "  2.07002917e+03  2.16297113e+03  2.16302887e+03  2.25597143e+03\n",
      "  2.25602857e+03  2.35297172e+03  2.35302828e+03  2.45000000e+03\n",
      "  2.45000001e+03]\n"
     ]
    }
   ],
   "source": [
    "# Initialize the Hamiltonian matrix\n",
    "H = np.zeros((len(basis_states), len(basis_states)))\n",
    "\n",
    "# Populate the Hamiltonian matrix\n",
    "for i, (n, sz) in enumerate(basis_states):\n",
    "    # Diagonal terms\n",
    "    H[i, i] = U * n * (n - 1) / 2 + (n % 2) * U / 2\n",
    "    # Off-diagonal terms\n",
    "    if n < N:\n",
    "        H[i, i + 1] = -Gamma / np.sqrt(n + 1)\n",
    "        H[i + 1, i] = -Gamma / np.sqrt(n + 1)\n",
    "\n",
    "# Diagonalize the Hamiltonian\n",
    "eigenvalues, eigenvectors = np.linalg.eigh(H)\n",
    "\n",
    "# Print the low-energy eigenvalues\n",
    "print(\"Low-Energy Spectrum:\")\n",
    "print(eigenvalues)"
   ]
  },
  {
   "cell_type": "code",
   "execution_count": 5,
   "id": "76151acc-2d2e-45f8-a269-42667363fe81",
   "metadata": {},
   "outputs": [
    {
     "name": "stdout",
     "output_type": "stream",
     "text": [
      "Impurity Susceptibility: 0.0792\n"
     ]
    }
   ],
   "source": [
    "# Calculate physical observables (e.g., impurity susceptibility)\n",
    "temperature = 0.01\n",
    "partition_function = np.sum(np.exp(-eigenvalues / temperature))\n",
    "susceptibility = U * U * (1 / partition_function)\n",
    "print(f\"Impurity Susceptibility: {susceptibility:.4f}\")"
   ]
  },
  {
   "cell_type": "code",
   "execution_count": null,
   "id": "90731aba-7d77-492e-8e84-8d241a37b713",
   "metadata": {},
   "outputs": [],
   "source": []
  }
 ],
 "metadata": {
  "kernelspec": {
   "display_name": "Python 3 (ipykernel)",
   "language": "python",
   "name": "python3"
  },
  "language_info": {
   "codemirror_mode": {
    "name": "ipython",
    "version": 3
   },
   "file_extension": ".py",
   "mimetype": "text/x-python",
   "name": "python",
   "nbconvert_exporter": "python",
   "pygments_lexer": "ipython3",
   "version": "3.11.5"
  }
 },
 "nbformat": 4,
 "nbformat_minor": 5
}
